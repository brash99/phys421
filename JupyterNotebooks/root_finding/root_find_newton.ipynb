{
 "cells": [
  {
   "cell_type": "code",
   "execution_count": 18,
   "metadata": {},
   "outputs": [],
   "source": [
    "import numpy as np\n",
    "import matplotlib.pyplot as plt"
   ]
  },
  {
   "cell_type": "code",
   "execution_count": 19,
   "metadata": {},
   "outputs": [],
   "source": [
    "# define a generator function for the polynomial\n",
    "def generator_function(x,*par):\n",
    "    return par[0]+par[1]*x+par[2]*x*x+par[3]*x*x*x\n",
    "\n",
    "# define a generator function for the polynomial\n",
    "def generator_function_prime(x,*par):\n",
    "    return par[1]+2.0*par[2]*x+3.0*par[3]*x*x\n",
    "\n",
    "par = np.array([1.80,-4.05,0.4,1.0])"
   ]
  },
  {
   "cell_type": "code",
   "execution_count": 20,
   "metadata": {},
   "outputs": [
    {
     "name": "stdout",
     "output_type": "stream",
     "text": [
      "New x-value =  66.63125188065547 Diff =  -33.36874811934453\n",
      "New x-value =  44.389876658482905 Diff =  -22.241375222172564\n",
      "New x-value =  29.568906624554415 Diff =  -14.82097003392849\n",
      "New x-value =  19.69802011222062 Diff =  -9.870886512333794\n",
      "New x-value =  13.131715487492722 Diff =  -6.5663046247279\n",
      "New x-value =  8.774835437212568 Diff =  -4.356880050280154\n",
      "New x-value =  5.899580570785462 Diff =  -2.875254866427106\n",
      "New x-value =  4.0233445316934136 Diff =  -1.8762360390920483\n",
      "New x-value =  2.8268900608566208 Diff =  -1.1964544708367928\n",
      "New x-value =  2.0994683880674785 Diff =  -0.7274216727891423\n",
      "New x-value =  1.7019490492601006 Diff =  -0.3975193388073779\n",
      "New x-value =  1.5360431332428977 Diff =  -0.16590591601720295\n",
      "New x-value =  1.5015172873416416 Diff =  -0.03452584590125607\n",
      "New x-value =  1.5000028832518442 Diff =  -0.0015144040897974165\n",
      "New x-value =  1.5000000000104448 Diff =  -2.883241399409542e-06\n",
      "New x-value =  1.4999999999999998 Diff =  -1.0444978215673473e-11\n",
      "New x-value =  1.4999999999999998 Diff =  0.0\n",
      "Root =  1.4999999999999998\n"
     ]
    }
   ],
   "source": [
    "# Choose a starting value of x (roots are -2.5,0.5,1.0)\n",
    "x = 100.0\n",
    "\n",
    "# Set the \"tolerance\" for finding the solution\n",
    "epsilon = 1.0E-12\n",
    "\n",
    "# Initialize a variable to use to look at the difference between x_{n+1} and x{n} at each step\n",
    "diff = 1.0E12\n",
    "\n",
    "counter = 0\n",
    "while (diff > epsilon and counter < 1000):\n",
    "    \n",
    "    f = generator_function(x,*par)\n",
    "    fp = generator_function_prime(x,*par)\n",
    "    \n",
    "    xnew = x - f/fp\n",
    "    diff = xnew - x\n",
    "    print (\"New x-value = \",xnew, \"Diff = \",diff)\n",
    "    \n",
    "    x = xnew\n",
    "    diff = np.abs(diff)\n",
    "    counter += 1\n",
    "    \n",
    "    if (counter%100 == 0):\n",
    "        print (\"Counter = \",counter)\n",
    "    \n",
    "print (\"Root = \",x)"
   ]
  },
  {
   "cell_type": "code",
   "execution_count": null,
   "metadata": {},
   "outputs": [],
   "source": [
    "\n",
    "\n"
   ]
  },
  {
   "cell_type": "code",
   "execution_count": null,
   "metadata": {},
   "outputs": [],
   "source": []
  }
 ],
 "metadata": {
  "kernelspec": {
   "display_name": "Python 3",
   "language": "python",
   "name": "python3"
  },
  "language_info": {
   "codemirror_mode": {
    "name": "ipython",
    "version": 3
   },
   "file_extension": ".py",
   "mimetype": "text/x-python",
   "name": "python",
   "nbconvert_exporter": "python",
   "pygments_lexer": "ipython3",
   "version": "3.6.8"
  }
 },
 "nbformat": 4,
 "nbformat_minor": 4
}
