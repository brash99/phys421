{
 "cells": [
  {
   "cell_type": "code",
   "execution_count": 5,
   "metadata": {},
   "outputs": [],
   "source": [
    "import numpy as np\n",
    "import matplotlib.pyplot as plt"
   ]
  },
  {
   "cell_type": "code",
   "execution_count": 11,
   "metadata": {},
   "outputs": [
    {
     "name": "stdout",
     "output_type": "stream",
     "text": [
      "4.49341 4.49341 4.49341\n"
     ]
    }
   ],
   "source": [
    "xl = 4.4\n",
    "xh = 4.6\n",
    "\n",
    "diff = 1.0E12\n",
    "epsilon = 1.0E-5\n",
    "n=1\n",
    "\n",
    "while (diff > epsilon):\n",
    "    if n>1000:\n",
    "        break\n",
    "    fl = xl - np.tan(xl)\n",
    "    fh = xh - np.tan(xh)\n",
    "    xm = (xh-xl)/2.0+xl\n",
    "    fm = xm - np.tan(xm)\n",
    "    \n",
    "    if (fl*fm < 0):\n",
    "        xh = xm\n",
    "        diff = np.abs(fm-fl)\n",
    "    else:\n",
    "        xl = xm\n",
    "        diff = np.abs(fm-fh)\n",
    "        \n",
    "    \n",
    "        \n",
    "print (\"%0.5f %0.5f %0.5f\" % (xl,xh,xm))\n"
   ]
  },
  {
   "cell_type": "code",
   "execution_count": null,
   "metadata": {},
   "outputs": [],
   "source": []
  }
 ],
 "metadata": {
  "kernelspec": {
   "display_name": "Python 3",
   "language": "python",
   "name": "python3"
  },
  "language_info": {
   "codemirror_mode": {
    "name": "ipython",
    "version": 3
   },
   "file_extension": ".py",
   "mimetype": "text/x-python",
   "name": "python",
   "nbconvert_exporter": "python",
   "pygments_lexer": "ipython3",
   "version": "3.6.8"
  }
 },
 "nbformat": 4,
 "nbformat_minor": 2
}
