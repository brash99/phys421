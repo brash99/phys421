{
 "cells": [
  {
   "cell_type": "code",
   "execution_count": 3,
   "metadata": {},
   "outputs": [
    {
     "name": "stdout",
     "output_type": "stream",
     "text": [
      "{'kicad': ['.'], 'skidl': ['.', '/usr/local/lib/python3.6/site-packages/skidl/libs'], 'spice': ['.']}\n"
     ]
    }
   ],
   "source": [
    "import matplotlib.pyplot as plt\n",
    "import numpy as np\n",
    "%matplotlib inline\n",
    "\n",
    "from skidl.pyspice import *\n",
    "print(lib_search_paths)"
   ]
  },
  {
   "cell_type": "code",
   "execution_count": 4,
   "metadata": {},
   "outputs": [
    {
     "name": "stdout",
     "output_type": "stream",
     "text": [
      "   V    I (mA)\n",
      "===============\n",
      "  0.00  -0.00\n",
      "  0.10   0.03\n",
      "  0.20   0.07\n",
      "  0.30   0.10\n",
      "  0.40   0.13\n",
      "  0.50   0.17\n",
      "  0.60   0.20\n",
      "  0.70   0.23\n",
      "  0.80   0.27\n",
      "  0.90   0.30\n",
      "  1.00   0.33\n",
      "  1.10   0.37\n",
      "  1.20   0.40\n",
      "  1.30   0.43\n",
      "  1.40   0.47\n",
      "  1.50   0.50\n",
      "  1.60   0.53\n",
      "  1.70   0.57\n",
      "  1.80   0.60\n",
      "  1.90   0.63\n",
      "  2.00   0.67\n",
      "  2.10   0.70\n",
      "  2.20   0.73\n",
      "  2.30   0.77\n",
      "  2.40   0.80\n",
      "  2.50   0.83\n",
      "  2.60   0.87\n",
      "  2.70   0.90\n",
      "  2.80   0.93\n",
      "  2.90   0.97\n",
      "  3.00   1.00\n"
     ]
    },
    {
     "name": "stderr",
     "output_type": "stream",
     "text": [
      "\n",
      "No errors or warnings found during netlist generation.\n",
      "\n"
     ]
    },
    {
     "data": {
      "image/png": "[encoded data removed]",
      "text/plain": [
       "<Figure size 432x288 with 1 Axes>"
      ]
     },
     "metadata": {
      "needs_background": "light"
     },
     "output_type": "display_data"
    }
   ],
   "source": [
    "reset()  # This will clear any previously defined circuitry.\n",
    "\n",
    "# Create and interconnect the components.\n",
    "vs = V(ref='VS', dc_value = 3 @ u_V)  # Create a voltage source named \"VS\" with an initial value of 3 volt.\n",
    "r1 = R(value = 1 @ u_kOhm)            # Create a 1 Kohm resistor.\n",
    "r2 = R(value = 2.0 @ u_kOhm)            # Create a 2.0 Kohm resistor.\n",
    "r3 = R(value = 2.0 @ u_kOhm)            # Create a 2.0 Kohm resistor.\n",
    "r4 = R(value = 1 @ u_kOhm)            # Create a 1 Kohm resistor.\n",
    "vs['p'] += r1[1]       # Connect one end of the first resistor to the positive terminal of the voltage source.\n",
    "r1[2] += r2[1], r3[1]       # Connect other end of the first resistor to the second and third resistors.\n",
    "r4[1] += r2[2], r3[2]       # Connect the other ends of the second and third resistors to one end of r4\n",
    "gnd += vs['n'], r4[2]       # Connect the ground to the negative end of the battery and to the other end of r4\n",
    "\n",
    "circ = generate_netlist()              # Translate the SKiDL code into a PyCircuit Circuit object.\n",
    "sim = circ.simulator()                 # Create a simulator for the Circuit object.\n",
    "dc_vals = sim.dc(VS=slice(0, 3, 0.1))  # Run a DC simulation where the voltage ramps from 0 to 1V by 0.1V increments.\n",
    "\n",
    "# Get the voltage applied to the resistor and the current coming out of the voltage source.\n",
    "voltage = dc_vals[node(vs['p'])]       # Get the voltage applied by the positive terminal of the source.\n",
    "current = -dc_vals['VS']               # Get the current coming out of the positive terminal of the voltage source.\n",
    "\n",
    "# Print a table showing the current through the resistor for the various applied voltages.\n",
    "print('{:^7s}{:^7s}'.format('V', ' I (mA)'))\n",
    "print('='*15)\n",
    "for v, i in zip(voltage.as_ndarray(), current.as_ndarray()*1000):\n",
    "    print('{:6.2f} {:6.2f}'.format(v, i))\n",
    "\n",
    "# Create a plot of the current (Y coord) versus the applied voltage (X coord).\n",
    "figure = plt.figure(1)\n",
    "plt.title('Resistor Current vs. Applied Voltage')\n",
    "plt.xlabel('Voltage (V)')\n",
    "plt.ylabel('Current (mA)')\n",
    "plt.plot(voltage, current*1000) # Plot X=voltage and Y=current (in milliamps, so multiply it by 1000).\n",
    "plt.show()"
   ]
  },
  {
   "cell_type": "code",
   "execution_count": null,
   "metadata": {},
   "outputs": [],
   "source": []
  }
 ],
 "metadata": {
  "kernelspec": {
   "display_name": "Python 3",
   "language": "python",
   "name": "python3"
  },
  "language_info": {
   "codemirror_mode": {
    "name": "ipython",
    "version": 3
   },
   "file_extension": ".py",
   "mimetype": "text/x-python",
   "name": "python",
   "nbconvert_exporter": "python",
   "pygments_lexer": "ipython3",
   "version": "3.6.8"
  }
 },
 "nbformat": 4,
 "nbformat_minor": 2
}
