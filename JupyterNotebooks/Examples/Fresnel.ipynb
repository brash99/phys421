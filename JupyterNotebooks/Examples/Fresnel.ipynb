{
 "cells": [
  {
   "cell_type": "code",
   "execution_count": 1,
   "metadata": {},
   "outputs": [],
   "source": [
    "import numpy as np\n",
    "import matplotlib.pyplot as plt"
   ]
  },
  {
   "cell_type": "code",
   "execution_count": 51,
   "metadata": {},
   "outputs": [
    {
     "name": "stdout",
     "output_type": "stream",
     "text": [
      "Brewster Angle =  33.690067525979785\n"
     ]
    },
    {
     "data": {
      "text/plain": [
       "[<matplotlib.lines.Line2D at 0x7f55d6b9e860>]"
      ]
     },
     "execution_count": 51,
     "metadata": {},
     "output_type": "execute_result"
    },
    {
     "data": {
      "image/png": "[encoded data removed]",
      "text/plain": [
       "<Figure size 432x288 with 1 Axes>"
      ]
     },
     "metadata": {
      "needs_background": "light"
     },
     "output_type": "display_data"
    }
   ],
   "source": [
    "thetai = np.linspace(0.0,np.pi/2.0,1000)\n",
    "\n",
    "n1 = 1.5\n",
    "n2 = 1.0\n",
    "\n",
    "R = n2/n1\n",
    "RTE=[]\n",
    "RTM=[]\n",
    "\n",
    "\n",
    "for theta in thetai:\n",
    "    if (R**2-np.sin(theta)**2 >= 0.0):\n",
    "        RTE.append(((np.cos(theta)-np.sqrt(R**2-(np.sin(theta))**2))/(np.cos(theta)+np.sqrt(R**2-(np.sin(theta))**2)))**2)\n",
    "        RTM.append(((-R**2*np.cos(theta)+np.sqrt(R**2-(np.sin(theta))**2))/(R**2*np.cos(theta)+np.sqrt(R**2-(np.sin(theta))**2)))**2)\n",
    "    else:\n",
    "        RTE.append(1.0)\n",
    "        RTM.append(1.0)\n",
    "        \n",
    "RTE = np.array(RTE)\n",
    "RTM = np.array(RTM)\n",
    "\n",
    "TTE = 1 - RTE\n",
    "TTM = 1 - RTM\n",
    "\n",
    "thetad = thetai*180.0/np.pi\n",
    "\n",
    "plt.plot(thetad,RTE,'b--')\n",
    "plt.plot(thetad,RTM,'r--')\n",
    "plt.plot(thetad,TTE,'b-')\n",
    "plt.plot(thetad,TTM,'r-')\n",
    "\n",
    "thetaB = np.arctan(n2/n1)*180.0/np.pi\n",
    "print (\"Brewster Angle = \",thetaB)\n",
    "xB = np.array([thetaB,thetaB])\n",
    "yB = np.array([0.0,1.0])\n",
    "plt.plot(xB,yB,'g--') \n",
    "\n",
    "#plt.yscale(\"log\")"
   ]
  },
  {
   "cell_type": "code",
   "execution_count": null,
   "metadata": {},
   "outputs": [],
   "source": []
  }
 ],
 "metadata": {
  "kernelspec": {
   "display_name": "Python 3",
   "language": "python",
   "name": "python3"
  },
  "language_info": {
   "codemirror_mode": {
    "name": "ipython",
    "version": 3
   },
   "file_extension": ".py",
   "mimetype": "text/x-python",
   "name": "python",
   "nbconvert_exporter": "python",
   "pygments_lexer": "ipython3",
   "version": "3.6.8"
  }
 },
 "nbformat": 4,
 "nbformat_minor": 2
}
