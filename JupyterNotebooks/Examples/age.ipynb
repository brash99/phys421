{
 "cells": [
  {
   "metadata": {},
   "cell_type": "markdown",
   "source": [
    "# Age when age in that base = base\n",
    "\n",
    "Requirements: \n",
    "\n",
    "1. age_baseX = X\n",
    "2. no digit in age_baseX is greater than X"
   ],
   "id": "fde5667d274b19e3"
  },
  {
   "metadata": {
    "ExecuteTime": {
     "end_time": "2024-11-19T18:24:46.672384Z",
     "start_time": "2024-11-19T18:24:46.638082Z"
    }
   },
   "cell_type": "code",
   "source": [
    "def decimal_to_base_n(decimal_num, base):\n",
    "    \"\"\"Converts a decimal number to base n.\"\"\"\n",
    "\n",
    "    if decimal_num == 0:\n",
    "        return \"0\"\n",
    "\n",
    "    digits = []\n",
    "    while decimal_num > 0:\n",
    "        decimal_num, remainder = divmod(decimal_num, base)\n",
    "        if remainder < 10:\n",
    "            digits.append(str(remainder))\n",
    "        else:\n",
    "            # For bases greater than 10, use letters for digits\n",
    "            digits.append(chr(ord('A') + remainder - 10))\n",
    "\n",
    "    return ''.join(reversed(digits))\n",
    "\n",
    "# Loop over all bases\n",
    "\n",
    "for base in range(2, 60):\n",
    "    # Loop over all ages\n",
    "    for age in range(10, 1000):\n",
    "        # convert decimal age to value in base\n",
    "        age_baseX = decimal_to_base_n(age, base)\n",
    "        # check if age_baseX is equal to base\n",
    "        if age_baseX == str(base):\n",
    "            print(f\"Age: {age}, Base: {base}, Age in base: {age_baseX}\")\n",
    "        "
   ],
   "id": "16872a96ca4941ab",
   "outputs": [
    {
     "name": "stdout",
     "output_type": "stream",
     "text": [
      "Age: 10, Base: 10, Age in base: 10\n",
      "Age: 12, Base: 11, Age in base: 11\n",
      "Age: 14, Base: 12, Age in base: 12\n",
      "Age: 16, Base: 13, Age in base: 13\n",
      "Age: 18, Base: 14, Age in base: 14\n",
      "Age: 20, Base: 15, Age in base: 15\n",
      "Age: 22, Base: 16, Age in base: 16\n",
      "Age: 24, Base: 17, Age in base: 17\n",
      "Age: 26, Base: 18, Age in base: 18\n",
      "Age: 28, Base: 19, Age in base: 19\n",
      "Age: 40, Base: 20, Age in base: 20\n",
      "Age: 43, Base: 21, Age in base: 21\n",
      "Age: 46, Base: 22, Age in base: 22\n",
      "Age: 49, Base: 23, Age in base: 23\n",
      "Age: 52, Base: 24, Age in base: 24\n",
      "Age: 55, Base: 25, Age in base: 25\n",
      "Age: 58, Base: 26, Age in base: 26\n",
      "Age: 61, Base: 27, Age in base: 27\n",
      "Age: 64, Base: 28, Age in base: 28\n",
      "Age: 67, Base: 29, Age in base: 29\n",
      "Age: 90, Base: 30, Age in base: 30\n",
      "Age: 94, Base: 31, Age in base: 31\n",
      "Age: 98, Base: 32, Age in base: 32\n",
      "Age: 102, Base: 33, Age in base: 33\n",
      "Age: 106, Base: 34, Age in base: 34\n",
      "Age: 110, Base: 35, Age in base: 35\n",
      "Age: 114, Base: 36, Age in base: 36\n",
      "Age: 118, Base: 37, Age in base: 37\n",
      "Age: 122, Base: 38, Age in base: 38\n",
      "Age: 126, Base: 39, Age in base: 39\n",
      "Age: 160, Base: 40, Age in base: 40\n",
      "Age: 165, Base: 41, Age in base: 41\n",
      "Age: 170, Base: 42, Age in base: 42\n",
      "Age: 175, Base: 43, Age in base: 43\n",
      "Age: 180, Base: 44, Age in base: 44\n",
      "Age: 185, Base: 45, Age in base: 45\n",
      "Age: 190, Base: 46, Age in base: 46\n",
      "Age: 195, Base: 47, Age in base: 47\n",
      "Age: 200, Base: 48, Age in base: 48\n",
      "Age: 205, Base: 49, Age in base: 49\n",
      "Age: 250, Base: 50, Age in base: 50\n",
      "Age: 256, Base: 51, Age in base: 51\n",
      "Age: 262, Base: 52, Age in base: 52\n",
      "Age: 268, Base: 53, Age in base: 53\n",
      "Age: 274, Base: 54, Age in base: 54\n",
      "Age: 280, Base: 55, Age in base: 55\n",
      "Age: 286, Base: 56, Age in base: 56\n",
      "Age: 292, Base: 57, Age in base: 57\n",
      "Age: 298, Base: 58, Age in base: 58\n",
      "Age: 304, Base: 59, Age in base: 59\n"
     ]
    }
   ],
   "execution_count": 7
  },
  {
   "metadata": {},
   "cell_type": "code",
   "outputs": [],
   "execution_count": null,
   "source": "",
   "id": "3e1fb918fe97a282"
  }
 ],
 "metadata": {
  "kernelspec": {
   "display_name": "Python 3",
   "language": "python",
   "name": "python3"
  },
  "language_info": {
   "codemirror_mode": {
    "name": "ipython",
    "version": 2
   },
   "file_extension": ".py",
   "mimetype": "text/x-python",
   "name": "python",
   "nbconvert_exporter": "python",
   "pygments_lexer": "ipython2",
   "version": "2.7.6"
  }
 },
 "nbformat": 4,
 "nbformat_minor": 5
}
