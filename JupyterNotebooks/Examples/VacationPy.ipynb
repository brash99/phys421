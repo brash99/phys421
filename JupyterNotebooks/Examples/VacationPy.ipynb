{
 "cells": [
  {
   "cell_type": "code",
   "execution_count": 1,
   "metadata": {},
   "outputs": [],
   "source": [
    "# Dependencies and Setup\n",
    "import matplotlib.pyplot as plt\n",
    "import pandas as pd\n",
    "import numpy as np\n",
    "\n",
    "import sys\n",
    "sys.path.append('/home/brash/python_modules')\n",
    "from dark_mode import *\n",
    "set_dark_mode(True)\n",
    "\n",
    "# Library which will allow us to do simple linear regression\n",
    "from scipy.stats import linregress\n",
    "\n",
    "# Library which allows plotting of a world map\n",
    "from mpl_toolkits.basemap import Basemap\n",
    "\n",
    "# Incorporated citipy to determine city based on latitude and longitude\n",
    "from citipy import citipy\n",
    "\n",
    "# Input File (CSV)\n",
    "input_data_file = \"output_data/cities.csv\""
   ]
  },
  {
   "cell_type": "code",
   "execution_count": 2,
   "metadata": {},
   "outputs": [],
   "source": [
    "# Read the previously created weather data from a file\n",
    "clean_city_data = pd.read_csv(input_data_file)"
   ]
  },
  {
   "cell_type": "code",
   "execution_count": 3,
   "metadata": {},
   "outputs": [
    {
     "name": "stdout",
     "output_type": "stream",
     "text": [
      "<class 'pandas.core.frame.DataFrame'>\n",
      "RangeIndex: 2017 entries, 0 to 2016\n",
      "Data columns (total 9 columns):\n",
      " #   Column       Non-Null Count  Dtype  \n",
      "---  ------       --------------  -----  \n",
      " 0   Unnamed: 0   2017 non-null   int64  \n",
      " 1   City         2017 non-null   object \n",
      " 2   Latitude     2017 non-null   float64\n",
      " 3   Longitude    2017 non-null   float64\n",
      " 4   Max Temp     2017 non-null   float64\n",
      " 5   Wind Speed   2017 non-null   float64\n",
      " 6   Cloudiness   2017 non-null   float64\n",
      " 7   Description  2017 non-null   object \n",
      " 8   Humidity     2017 non-null   float64\n",
      "dtypes: float64(6), int64(1), object(2)\n",
      "memory usage: 141.9+ KB\n"
     ]
    }
   ],
   "source": [
    "clean_city_data.info()"
   ]
  },
  {
   "cell_type": "code",
   "execution_count": 4,
   "metadata": {},
   "outputs": [
    {
     "name": "stdout",
     "output_type": "stream",
     "text": [
      "<class 'pandas.core.frame.DataFrame'>\n",
      "Int64Index: 2015 entries, 81 to 713\n",
      "Data columns (total 10 columns):\n",
      " #   Column               Non-Null Count  Dtype  \n",
      "---  ------               --------------  -----  \n",
      " 0   Unnamed: 0           2015 non-null   int64  \n",
      " 1   City                 2015 non-null   object \n",
      " 2   Latitude             2015 non-null   float64\n",
      " 3   Longitude            2015 non-null   float64\n",
      " 4   Max Temp             2015 non-null   float64\n",
      " 5   Wind Speed           2015 non-null   float64\n",
      " 6   Cloudiness           2015 non-null   float64\n",
      " 7   Description          2015 non-null   object \n",
      " 8   Humidity             2015 non-null   float64\n",
      " 9   Augmented Longitude  2015 non-null   float64\n",
      "dtypes: float64(7), int64(1), object(2)\n",
      "memory usage: 173.2+ KB\n"
     ]
    }
   ],
   "source": [
    "# Cleaning of the data - first pass\n",
    "#\n",
    "# We need to remove any \"duplicate entries\" from the data, if we are going to generate a heatmap\n",
    "# Problems arise if we have two cities that have exactly the same longitude.  To get around this, we\n",
    "# can create a \"fake\" longitude, which is extremely close to the original longitude, but is just augmented\n",
    "# slightly by the addition of a term proportional to the latitude.  This should result in different values of\n",
    "# augmented longitude for each city in the dataframe.\n",
    "clean_city_data['Augmented Longitude']=clean_city_data['Longitude']+0.0001*clean_city_data['Latitude']\n",
    "\n",
    "# Sort the dataframe based upon this new augmented longitude.\n",
    "clean_city_data.sort_values(\"Augmented Longitude\", inplace = True)\n",
    "\n",
    "# Drop any duplicate entries that might remain.  Note that in this example we went from 1321 entries in the \n",
    "# original dataframe to 1319 entries in the new dataframe.\n",
    "clean_city_data.drop_duplicates(subset =\"Augmented Longitude\",keep = False, inplace = True)\n",
    "\n",
    "clean_city_data.info()"
   ]
  },
  {
   "cell_type": "code",
   "execution_count": 5,
   "metadata": {},
   "outputs": [
    {
     "data": {
      "text/html": [
       "<div>\n",
       "<style scoped>\n",
       "    .dataframe tbody tr th:only-of-type {\n",
       "        vertical-align: middle;\n",
       "    }\n",
       "\n",
       "    .dataframe tbody tr th {\n",
       "        vertical-align: top;\n",
       "    }\n",
       "\n",
       "    .dataframe thead th {\n",
       "        text-align: right;\n",
       "    }\n",
       "</style>\n",
       "<table border=\"1\" class=\"dataframe\">\n",
       "  <thead>\n",
       "    <tr style=\"text-align: right;\">\n",
       "      <th></th>\n",
       "      <th>Unnamed: 0</th>\n",
       "      <th>City</th>\n",
       "      <th>Latitude</th>\n",
       "      <th>Longitude</th>\n",
       "      <th>Max Temp</th>\n",
       "      <th>Wind Speed</th>\n",
       "      <th>Cloudiness</th>\n",
       "      <th>Description</th>\n",
       "      <th>Humidity</th>\n",
       "      <th>Augmented Longitude</th>\n",
       "    </tr>\n",
       "  </thead>\n",
       "  <tbody>\n",
       "    <tr>\n",
       "      <th>1366</th>\n",
       "      <td>1366</td>\n",
       "      <td>wahiawa</td>\n",
       "      <td>21.5028</td>\n",
       "      <td>-158.0236</td>\n",
       "      <td>299.82</td>\n",
       "      <td>7.20</td>\n",
       "      <td>1.0</td>\n",
       "      <td>clear sky</td>\n",
       "      <td>47.0</td>\n",
       "      <td>-158.021450</td>\n",
       "    </tr>\n",
       "    <tr>\n",
       "      <th>143</th>\n",
       "      <td>143</td>\n",
       "      <td>portland</td>\n",
       "      <td>45.5234</td>\n",
       "      <td>-122.6762</td>\n",
       "      <td>300.37</td>\n",
       "      <td>6.69</td>\n",
       "      <td>20.0</td>\n",
       "      <td>few clouds</td>\n",
       "      <td>29.0</td>\n",
       "      <td>-122.671648</td>\n",
       "    </tr>\n",
       "    <tr>\n",
       "      <th>1239</th>\n",
       "      <td>1239</td>\n",
       "      <td>auburn</td>\n",
       "      <td>47.3073</td>\n",
       "      <td>-122.2284</td>\n",
       "      <td>297.59</td>\n",
       "      <td>6.17</td>\n",
       "      <td>20.0</td>\n",
       "      <td>few clouds</td>\n",
       "      <td>33.0</td>\n",
       "      <td>-122.223669</td>\n",
       "    </tr>\n",
       "    <tr>\n",
       "      <th>1354</th>\n",
       "      <td>1354</td>\n",
       "      <td>williams lake</td>\n",
       "      <td>52.1415</td>\n",
       "      <td>-122.1445</td>\n",
       "      <td>297.04</td>\n",
       "      <td>2.57</td>\n",
       "      <td>75.0</td>\n",
       "      <td>broken clouds</td>\n",
       "      <td>34.0</td>\n",
       "      <td>-122.139286</td>\n",
       "    </tr>\n",
       "    <tr>\n",
       "      <th>1315</th>\n",
       "      <td>1315</td>\n",
       "      <td>butte</td>\n",
       "      <td>39.6499</td>\n",
       "      <td>-121.5677</td>\n",
       "      <td>298.15</td>\n",
       "      <td>1.54</td>\n",
       "      <td>1.0</td>\n",
       "      <td>clear sky</td>\n",
       "      <td>43.0</td>\n",
       "      <td>-121.563735</td>\n",
       "    </tr>\n",
       "    <tr>\n",
       "      <th>...</th>\n",
       "      <td>...</td>\n",
       "      <td>...</td>\n",
       "      <td>...</td>\n",
       "      <td>...</td>\n",
       "      <td>...</td>\n",
       "      <td>...</td>\n",
       "      <td>...</td>\n",
       "      <td>...</td>\n",
       "      <td>...</td>\n",
       "      <td>...</td>\n",
       "    </tr>\n",
       "    <tr>\n",
       "      <th>1401</th>\n",
       "      <td>1401</td>\n",
       "      <td>oyama</td>\n",
       "      <td>36.3000</td>\n",
       "      <td>139.8000</td>\n",
       "      <td>296.48</td>\n",
       "      <td>6.17</td>\n",
       "      <td>75.0</td>\n",
       "      <td>light rain</td>\n",
       "      <td>60.0</td>\n",
       "      <td>139.803630</td>\n",
       "    </tr>\n",
       "    <tr>\n",
       "      <th>450</th>\n",
       "      <td>450</td>\n",
       "      <td>hasaki</td>\n",
       "      <td>35.7333</td>\n",
       "      <td>140.8333</td>\n",
       "      <td>297.04</td>\n",
       "      <td>6.17</td>\n",
       "      <td>75.0</td>\n",
       "      <td>moderate rain</td>\n",
       "      <td>60.0</td>\n",
       "      <td>140.836873</td>\n",
       "    </tr>\n",
       "    <tr>\n",
       "      <th>1209</th>\n",
       "      <td>1209</td>\n",
       "      <td>mareeba</td>\n",
       "      <td>-17.0000</td>\n",
       "      <td>145.4333</td>\n",
       "      <td>300.37</td>\n",
       "      <td>7.72</td>\n",
       "      <td>40.0</td>\n",
       "      <td>scattered clouds</td>\n",
       "      <td>47.0</td>\n",
       "      <td>145.431600</td>\n",
       "    </tr>\n",
       "    <tr>\n",
       "      <th>1998</th>\n",
       "      <td>1998</td>\n",
       "      <td>cairns</td>\n",
       "      <td>-16.9167</td>\n",
       "      <td>145.7667</td>\n",
       "      <td>300.37</td>\n",
       "      <td>9.26</td>\n",
       "      <td>40.0</td>\n",
       "      <td>scattered clouds</td>\n",
       "      <td>57.0</td>\n",
       "      <td>145.765008</td>\n",
       "    </tr>\n",
       "    <tr>\n",
       "      <th>1471</th>\n",
       "      <td>1471</td>\n",
       "      <td>innisfail</td>\n",
       "      <td>-17.5333</td>\n",
       "      <td>146.0333</td>\n",
       "      <td>297.72</td>\n",
       "      <td>4.98</td>\n",
       "      <td>0.0</td>\n",
       "      <td>clear sky</td>\n",
       "      <td>56.0</td>\n",
       "      <td>146.031547</td>\n",
       "    </tr>\n",
       "  </tbody>\n",
       "</table>\n",
       "<p>103 rows × 10 columns</p>\n",
       "</div>"
      ],
      "text/plain": [
       "      Unnamed: 0           City  Latitude  Longitude  Max Temp  Wind Speed  \\\n",
       "1366        1366        wahiawa   21.5028  -158.0236    299.82        7.20   \n",
       "143          143       portland   45.5234  -122.6762    300.37        6.69   \n",
       "1239        1239         auburn   47.3073  -122.2284    297.59        6.17   \n",
       "1354        1354  williams lake   52.1415  -122.1445    297.04        2.57   \n",
       "1315        1315          butte   39.6499  -121.5677    298.15        1.54   \n",
       "...          ...            ...       ...        ...       ...         ...   \n",
       "1401        1401          oyama   36.3000   139.8000    296.48        6.17   \n",
       "450          450         hasaki   35.7333   140.8333    297.04        6.17   \n",
       "1209        1209        mareeba  -17.0000   145.4333    300.37        7.72   \n",
       "1998        1998         cairns  -16.9167   145.7667    300.37        9.26   \n",
       "1471        1471      innisfail  -17.5333   146.0333    297.72        4.98   \n",
       "\n",
       "      Cloudiness       Description  Humidity  Augmented Longitude  \n",
       "1366         1.0         clear sky      47.0          -158.021450  \n",
       "143         20.0        few clouds      29.0          -122.671648  \n",
       "1239        20.0        few clouds      33.0          -122.223669  \n",
       "1354        75.0     broken clouds      34.0          -122.139286  \n",
       "1315         1.0         clear sky      43.0          -121.563735  \n",
       "...          ...               ...       ...                  ...  \n",
       "1401        75.0        light rain      60.0           139.803630  \n",
       "450         75.0     moderate rain      60.0           140.836873  \n",
       "1209        40.0  scattered clouds      47.0           145.431600  \n",
       "1998        40.0  scattered clouds      57.0           145.765008  \n",
       "1471         0.0         clear sky      56.0           146.031547  \n",
       "\n",
       "[103 rows x 10 columns]"
      ]
     },
     "execution_count": 5,
     "metadata": {},
     "output_type": "execute_result"
    }
   ],
   "source": [
    "# Cleaning of the data - second pass\n",
    "#\n",
    "# create a new dataframe, called parsed_data, which includes only those cities that have\n",
    "# a) a temperature above 70F\n",
    "# b) a temperature below 80F\n",
    "# c) a wind speed < 10 mph\n",
    "# d) a cloudiness = 0\n",
    "#\n",
    "parsed_data = clean_city_data[clean_city_data['Max Temp']>=(72-32.0)*5.0/9.0+273.15]\n",
    "parsed_data = parsed_data[parsed_data['Max Temp']<=(82-32.0)*5.0/9.0+273.15]\n",
    "parsed_data = parsed_data[parsed_data['Wind Speed']<=10]\n",
    "parsed_data = parsed_data[parsed_data['Humidity']<=60]\n",
    "\n",
    "parsed_data"
   ]
  },
  {
   "cell_type": "code",
   "execution_count": 11,
   "metadata": {},
   "outputs": [
    {
     "ename": "NameError",
     "evalue": "name 'linecolor' is not defined",
     "output_type": "error",
     "traceback": [
      "\u001b[0;31m---------------------------------------------------------------------------\u001b[0m",
      "\u001b[0;31mNameError\u001b[0m                                 Traceback (most recent call last)",
      "\u001b[0;32m<ipython-input-11-071fa5275bd8>\u001b[0m in \u001b[0;36m<module>\u001b[0;34m\u001b[0m\n\u001b[1;32m      5\u001b[0m \u001b[0mmap\u001b[0m \u001b[0;34m=\u001b[0m \u001b[0mBasemap\u001b[0m\u001b[0;34m(\u001b[0m\u001b[0mprojection\u001b[0m\u001b[0;34m=\u001b[0m\u001b[0;34m'mill'\u001b[0m\u001b[0;34m,\u001b[0m\u001b[0mlon_0\u001b[0m\u001b[0;34m=\u001b[0m\u001b[0;36m0\u001b[0m\u001b[0;34m)\u001b[0m\u001b[0;34m\u001b[0m\u001b[0;34m\u001b[0m\u001b[0m\n\u001b[1;32m      6\u001b[0m \u001b[0;31m# plot coastlines, draw label meridians and parallels.\u001b[0m\u001b[0;34m\u001b[0m\u001b[0;34m\u001b[0m\u001b[0;34m\u001b[0m\u001b[0m\n\u001b[0;32m----> 7\u001b[0;31m \u001b[0mmap\u001b[0m\u001b[0;34m.\u001b[0m\u001b[0mdrawcoastlines\u001b[0m\u001b[0;34m(\u001b[0m\u001b[0mcolor\u001b[0m\u001b[0;34m=\u001b[0m\u001b[0mlinecolor\u001b[0m\u001b[0;34m)\u001b[0m\u001b[0;34m\u001b[0m\u001b[0;34m\u001b[0m\u001b[0m\n\u001b[0m\u001b[1;32m      8\u001b[0m \u001b[0mmap\u001b[0m\u001b[0;34m.\u001b[0m\u001b[0mdrawparallels\u001b[0m\u001b[0;34m(\u001b[0m\u001b[0mnp\u001b[0m\u001b[0;34m.\u001b[0m\u001b[0marange\u001b[0m\u001b[0;34m(\u001b[0m\u001b[0;34m-\u001b[0m\u001b[0;36m90\u001b[0m\u001b[0;34m,\u001b[0m\u001b[0;36m90\u001b[0m\u001b[0;34m,\u001b[0m\u001b[0;36m30\u001b[0m\u001b[0;34m)\u001b[0m\u001b[0;34m,\u001b[0m\u001b[0mlabels\u001b[0m\u001b[0;34m=\u001b[0m\u001b[0;34m[\u001b[0m\u001b[0;36m1\u001b[0m\u001b[0;34m,\u001b[0m\u001b[0;36m0\u001b[0m\u001b[0;34m,\u001b[0m\u001b[0;36m0\u001b[0m\u001b[0;34m,\u001b[0m\u001b[0;36m0\u001b[0m\u001b[0;34m]\u001b[0m\u001b[0;34m,\u001b[0m\u001b[0mcolor\u001b[0m\u001b[0;34m=\u001b[0m\u001b[0mlinecolor\u001b[0m\u001b[0;34m)\u001b[0m\u001b[0;34m\u001b[0m\u001b[0;34m\u001b[0m\u001b[0m\n\u001b[1;32m      9\u001b[0m \u001b[0mmap\u001b[0m\u001b[0;34m.\u001b[0m\u001b[0mdrawmeridians\u001b[0m\u001b[0;34m(\u001b[0m\u001b[0mnp\u001b[0m\u001b[0;34m.\u001b[0m\u001b[0marange\u001b[0m\u001b[0;34m(\u001b[0m\u001b[0mmap\u001b[0m\u001b[0;34m.\u001b[0m\u001b[0mlonmin\u001b[0m\u001b[0;34m,\u001b[0m\u001b[0mmap\u001b[0m\u001b[0;34m.\u001b[0m\u001b[0mlonmax\u001b[0m\u001b[0;34m+\u001b[0m\u001b[0;36m30\u001b[0m\u001b[0;34m,\u001b[0m\u001b[0;36m60\u001b[0m\u001b[0;34m)\u001b[0m\u001b[0;34m,\u001b[0m\u001b[0mlabels\u001b[0m\u001b[0;34m=\u001b[0m\u001b[0;34m[\u001b[0m\u001b[0;36m0\u001b[0m\u001b[0;34m,\u001b[0m\u001b[0;36m0\u001b[0m\u001b[0;34m,\u001b[0m\u001b[0;36m0\u001b[0m\u001b[0;34m,\u001b[0m\u001b[0;36m1\u001b[0m\u001b[0;34m]\u001b[0m\u001b[0;34m,\u001b[0m\u001b[0mcolor\u001b[0m\u001b[0;34m=\u001b[0m\u001b[0mlinecolor\u001b[0m\u001b[0;34m)\u001b[0m\u001b[0;34m\u001b[0m\u001b[0;34m\u001b[0m\u001b[0m\n",
      "\u001b[0;31mNameError\u001b[0m: name 'linecolor' is not defined"
     ]
    },
    {
     "data": {
      "image/png": "[encoded data removed]",
      "text/plain": [
       "<Figure size 720x504 with 1 Axes>"
      ]
     },
     "metadata": {
      "needs_background": "dark"
     },
     "output_type": "display_data"
    }
   ],
   "source": [
    "# Create a heatmap of the original dataframe.  We are using here the Basemap library from the mpl_toolkits module.\n",
    "\n",
    "plt.subplots(figsize=(10, 7))\n",
    "\n",
    "map = Basemap(projection='mill',lon_0=0)\n",
    "# plot coastlines, draw label meridians and parallels.\n",
    "map.drawcoastlines(color=linecolor)\n",
    "map.drawparallels(np.arange(-90,90,30),labels=[1,0,0,0],color=linecolor)\n",
    "map.drawmeridians(np.arange(map.lonmin,map.lonmax+30,60),labels=[0,0,0,1],color=linecolor)\n",
    "map.drawcountries(color=linecolor)\n",
    "\n",
    "map.scatter(clean_city_data['Longitude'], clean_city_data['Latitude'], latlon=True, \n",
    "            c=clean_city_data['Humidity'])\n",
    "\n",
    "plt.colorbar(label=r'Humidity (percent)')"
   ]
  },
  {
   "cell_type": "code",
   "execution_count": 12,
   "metadata": {},
   "outputs": [
    {
     "ename": "NameError",
     "evalue": "name 'linecolor' is not defined",
     "output_type": "error",
     "traceback": [
      "\u001b[0;31m---------------------------------------------------------------------------\u001b[0m",
      "\u001b[0;31mNameError\u001b[0m                                 Traceback (most recent call last)",
      "\u001b[0;32m<ipython-input-12-e08cb2d0cbf6>\u001b[0m in \u001b[0;36m<module>\u001b[0;34m\u001b[0m\n\u001b[1;32m      4\u001b[0m \u001b[0mmap\u001b[0m \u001b[0;34m=\u001b[0m \u001b[0mBasemap\u001b[0m\u001b[0;34m(\u001b[0m\u001b[0mprojection\u001b[0m\u001b[0;34m=\u001b[0m\u001b[0;34m'mill'\u001b[0m\u001b[0;34m,\u001b[0m\u001b[0mlon_0\u001b[0m\u001b[0;34m=\u001b[0m\u001b[0;36m0\u001b[0m\u001b[0;34m)\u001b[0m\u001b[0;34m\u001b[0m\u001b[0;34m\u001b[0m\u001b[0m\n\u001b[1;32m      5\u001b[0m \u001b[0;31m# plot coastlines, draw label meridians and parallels.\u001b[0m\u001b[0;34m\u001b[0m\u001b[0;34m\u001b[0m\u001b[0;34m\u001b[0m\u001b[0m\n\u001b[0;32m----> 6\u001b[0;31m \u001b[0mmap\u001b[0m\u001b[0;34m.\u001b[0m\u001b[0mdrawcoastlines\u001b[0m\u001b[0;34m(\u001b[0m\u001b[0mcolor\u001b[0m\u001b[0;34m=\u001b[0m\u001b[0mlinecolor\u001b[0m\u001b[0;34m)\u001b[0m\u001b[0;34m\u001b[0m\u001b[0;34m\u001b[0m\u001b[0m\n\u001b[0m\u001b[1;32m      7\u001b[0m \u001b[0mmap\u001b[0m\u001b[0;34m.\u001b[0m\u001b[0mdrawparallels\u001b[0m\u001b[0;34m(\u001b[0m\u001b[0mnp\u001b[0m\u001b[0;34m.\u001b[0m\u001b[0marange\u001b[0m\u001b[0;34m(\u001b[0m\u001b[0;34m-\u001b[0m\u001b[0;36m90\u001b[0m\u001b[0;34m,\u001b[0m\u001b[0;36m90\u001b[0m\u001b[0;34m,\u001b[0m\u001b[0;36m30\u001b[0m\u001b[0;34m)\u001b[0m\u001b[0;34m,\u001b[0m\u001b[0mlabels\u001b[0m\u001b[0;34m=\u001b[0m\u001b[0;34m[\u001b[0m\u001b[0;36m1\u001b[0m\u001b[0;34m,\u001b[0m\u001b[0;36m0\u001b[0m\u001b[0;34m,\u001b[0m\u001b[0;36m0\u001b[0m\u001b[0;34m,\u001b[0m\u001b[0;36m0\u001b[0m\u001b[0;34m]\u001b[0m\u001b[0;34m,\u001b[0m\u001b[0mcolor\u001b[0m\u001b[0;34m=\u001b[0m\u001b[0mlinecolor\u001b[0m\u001b[0;34m)\u001b[0m\u001b[0;34m\u001b[0m\u001b[0;34m\u001b[0m\u001b[0m\n\u001b[1;32m      8\u001b[0m \u001b[0mmap\u001b[0m\u001b[0;34m.\u001b[0m\u001b[0mdrawmeridians\u001b[0m\u001b[0;34m(\u001b[0m\u001b[0mnp\u001b[0m\u001b[0;34m.\u001b[0m\u001b[0marange\u001b[0m\u001b[0;34m(\u001b[0m\u001b[0mmap\u001b[0m\u001b[0;34m.\u001b[0m\u001b[0mlonmin\u001b[0m\u001b[0;34m,\u001b[0m\u001b[0mmap\u001b[0m\u001b[0;34m.\u001b[0m\u001b[0mlonmax\u001b[0m\u001b[0;34m+\u001b[0m\u001b[0;36m30\u001b[0m\u001b[0;34m,\u001b[0m\u001b[0;36m60\u001b[0m\u001b[0;34m)\u001b[0m\u001b[0;34m,\u001b[0m\u001b[0mlabels\u001b[0m\u001b[0;34m=\u001b[0m\u001b[0;34m[\u001b[0m\u001b[0;36m0\u001b[0m\u001b[0;34m,\u001b[0m\u001b[0;36m0\u001b[0m\u001b[0;34m,\u001b[0m\u001b[0;36m0\u001b[0m\u001b[0;34m,\u001b[0m\u001b[0;36m1\u001b[0m\u001b[0;34m]\u001b[0m\u001b[0;34m,\u001b[0m\u001b[0mcolor\u001b[0m\u001b[0;34m=\u001b[0m\u001b[0mlinecolor\u001b[0m\u001b[0;34m)\u001b[0m\u001b[0;34m\u001b[0m\u001b[0;34m\u001b[0m\u001b[0m\n",
      "\u001b[0;31mNameError\u001b[0m: name 'linecolor' is not defined"
     ]
    },
    {
     "data": {
      "image/png": "[encoded data removed]",
      "text/plain": [
       "<Figure size 720x504 with 1 Axes>"
      ]
     },
     "metadata": {
      "needs_background": "dark"
     },
     "output_type": "display_data"
    }
   ],
   "source": [
    "# create a heatmap of the parsed data\n",
    "plt.subplots(figsize=(10, 7))\n",
    "\n",
    "map = Basemap(projection='mill',lon_0=0)\n",
    "# plot coastlines, draw label meridians and parallels.\n",
    "map.drawcoastlines(color=linecolor)\n",
    "map.drawparallels(np.arange(-90,90,30),labels=[1,0,0,0],color=linecolor)\n",
    "map.drawmeridians(np.arange(map.lonmin,map.lonmax+30,60),labels=[0,0,0,1],color=linecolor)\n",
    "map.drawcountries(color=linecolor)\n",
    "\n",
    "map.scatter(parsed_data['Longitude'], parsed_data['Latitude'], latlon=True, \n",
    "            c=parsed_data['Humidity'])\n",
    "\n",
    "plt.colorbar(label=r'Humidity (percent)')"
   ]
  },
  {
   "cell_type": "code",
   "execution_count": 13,
   "metadata": {},
   "outputs": [
    {
     "data": {
      "image/png": "[encoded data removed]",
      "text/plain": [
       "<Figure size 432x288 with 2 Axes>"
      ]
     },
     "metadata": {
      "needs_background": "dark"
     },
     "output_type": "display_data"
    }
   ],
   "source": [
    "import seaborn as sns\n",
    "\n",
    "cleaned_data_plotting = clean_city_data.pivot(\"Latitude\", \"Longitude\", \"Humidity\")\n",
    "\n",
    "ax = sns.heatmap(cleaned_data_plotting)\n",
    "ax.invert_yaxis()"
   ]
  },
  {
   "cell_type": "code",
   "execution_count": 14,
   "metadata": {},
   "outputs": [
    {
     "name": "stdout",
     "output_type": "stream",
     "text": [
      "Enabling notebook extension jupyter-gmaps/extension...\n",
      "      - Validating: \u001b[32mOK\u001b[0m\n",
      "Enabling notebook extension jupyter-js-widgets/extension...\n",
      "      - Validating: \u001b[32mOK\u001b[0m\n"
     ]
    },
    {
     "data": {
      "application/vnd.jupyter.widget-view+json": {
       "model_id": "71d5687209e240908232f00258422870",
       "version_major": 2,
       "version_minor": 0
      },
      "text/plain": [
       "Figure(layout=FigureLayout(height='420px'))"
      ]
     },
     "metadata": {},
     "output_type": "display_data"
    }
   ],
   "source": [
    "!jupyter nbextension enable --py gmaps\n",
    "!jupyter nbextension enable --py widgetsnbextension\n",
    "import gmaps\n",
    "import gmaps.datasets\n",
    "\n",
    "locations = parsed_data[['Latitude', 'Longitude']]\n",
    "weights = parsed_data['Humidity']\n",
    "\n",
    "fig = gmaps.figure()\n",
    "fig.add_layer(gmaps.heatmap_layer(locations, weights=weights))\n",
    "fig"
   ]
  },
  {
   "cell_type": "code",
   "execution_count": null,
   "metadata": {},
   "outputs": [],
   "source": []
  },
  {
   "cell_type": "code",
   "execution_count": null,
   "metadata": {},
   "outputs": [],
   "source": []
  },
  {
   "cell_type": "code",
   "execution_count": null,
   "metadata": {},
   "outputs": [],
   "source": []
  }
 ],
 "metadata": {
  "kernelspec": {
   "display_name": "Python 3",
   "language": "python",
   "name": "python3"
  },
  "language_info": {
   "codemirror_mode": {
    "name": "ipython",
    "version": 3
   },
   "file_extension": ".py",
   "mimetype": "text/x-python",
   "name": "python",
   "nbconvert_exporter": "python",
   "pygments_lexer": "ipython3",
   "version": "3.6.8"
  },
  "toc-autonumbering": false,
  "toc-showcode": true,
  "toc-showmarkdowntxt": false,
  "toc-showtags": true
 },
 "nbformat": 4,
 "nbformat_minor": 4
}
