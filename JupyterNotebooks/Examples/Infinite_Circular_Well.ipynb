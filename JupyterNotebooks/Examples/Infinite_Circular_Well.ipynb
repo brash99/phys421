{
 "cells": [
  {
   "cell_type": "code",
   "execution_count": 17,
   "metadata": {},
   "outputs": [
    {
     "name": "stdout",
     "output_type": "stream",
     "text": [
      "Zeroes =  [2.40482556 3.83170597 5.1356223  5.52007811]\n",
      "Energies =  [ 5.78318596 14.68197064 26.37461643 30.47126234]\n",
      "Integral =  0.8458563640997492\n",
      "Integral =  0.5091042494431095\n",
      "Integral =  0.3620983355073054\n",
      "Integral =  0.36336977464495895\n"
     ]
    },
    {
     "data": {
      "text/plain": [
       "<matplotlib.legend.Legend at 0x7fe0d1fa7fd0>"
      ]
     },
     "execution_count": 17,
     "metadata": {},
     "output_type": "execute_result"
    },
    {
     "data": {
      "image/png": "[encoded data removed]",
      "text/plain": [
       "<Figure size 432x288 with 1 Axes>"
      ]
     },
     "metadata": {
      "needs_background": "light"
     },
     "output_type": "display_data"
    }
   ],
   "source": [
    "import numpy as np\n",
    "import matplotlib.pyplot as plt\n",
    "import scipy.special as sc\n",
    "\n",
    "# Lowest 10\n",
    "#nn = 0\n",
    "#z1 = sc.jn_zeros(nn,4)\n",
    "#nn = 1\n",
    "#z2 = sc.jn_zeros(nn,3)\n",
    "#nn = 2\n",
    "#z3 = sc.jn_zeros(nn,2)\n",
    "#nn = 3\n",
    "#z4 = sc.jn_zeros(nn,1)\n",
    "#\n",
    "#z = np.concatenate([z1,z2,z3,z4])\n",
    "#z_nm = np.sort(z)\n",
    "#print (\"Zeroes = \",z_nm)\n",
    "#m = np.array([1,1,1,2,1,2,2,3,3,4])\n",
    "#n = np.array([0,1,2,0,3,1,2,0,1,0])\n",
    "\n",
    "# Lowest 4\n",
    "nn = 0\n",
    "z1 = sc.jn_zeros(nn,2)\n",
    "nn = 1\n",
    "z2 = sc.jn_zeros(nn,1)\n",
    "nn = 2\n",
    "z3 = sc.jn_zeros(nn,1)\n",
    "\n",
    "z = np.concatenate([z1,z2,z3])\n",
    "z_nm = np.sort(z)\n",
    "print (\"Zeroes = \",z_nm)\n",
    "m = np.array([1,1,1,2])\n",
    "n = np.array([0,1,2,0])\n",
    "\n",
    "a = 1\n",
    "hbar = 1\n",
    "mass = 0.5\n",
    "\n",
    "E = hbar**2*z_nm**2/(2.0*mass*a**2)\n",
    "\n",
    "print (\"Energies = \",E)\n",
    "\n",
    "npts = 1000\n",
    "jvalue = np.zeros(npts)\n",
    "\n",
    "for i in range(len(z)):\n",
    "    rho = np.linspace(0.0,a,npts)\n",
    "    k = np.sqrt(2.0*mass*E[i])/(hbar**2)\n",
    "    for j in range(npts):\n",
    "        jvalue[j] = sc.jv(n[i],k*rho[j])\n",
    "        #print (rho[j],jvalue[i])\n",
    "    #print (jvalue)\n",
    "    R = jvalue\n",
    "    psi_squared = R**2\n",
    "\n",
    "\n",
    "    \n",
    "    integral = 0.0\n",
    "    for j in range(npts):\n",
    "        integral = integral + psi_squared[j]*rho[j]*2.0*np.pi*a/npts\n",
    "    print (\"Integral = \",integral)\n",
    "    psi_squared = psi_squared/integral \n",
    "    \n",
    "    plt.plot(rho,psi_squared,label=i+1)\n",
    "    \n",
    "plt.legend()"
   ]
  },
  {
   "cell_type": "code",
   "execution_count": null,
   "metadata": {},
   "outputs": [],
   "source": []
  },
  {
   "cell_type": "code",
   "execution_count": null,
   "metadata": {},
   "outputs": [],
   "source": []
  }
 ],
 "metadata": {
  "kernelspec": {
   "display_name": "Python 3",
   "language": "python",
   "name": "python3"
  },
  "language_info": {
   "codemirror_mode": {
    "name": "ipython",
    "version": 3
   },
   "file_extension": ".py",
   "mimetype": "text/x-python",
   "name": "python",
   "nbconvert_exporter": "python",
   "pygments_lexer": "ipython3",
   "version": "3.6.8"
  }
 },
 "nbformat": 4,
 "nbformat_minor": 2
}
