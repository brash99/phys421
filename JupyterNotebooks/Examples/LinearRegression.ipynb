{
 "cells": [
  {
   "cell_type": "markdown",
   "metadata": {
    "colab_type": "text",
    "id": "uzR3GGdt-1sK"
   },
   "source": [
    "# Linear Regression Models"
   ]
  },
  {
   "cell_type": "code",
   "execution_count": null,
   "metadata": {
    "colab": {},
    "colab_type": "code",
    "id": "4ZZDsekk-1sM"
   },
   "outputs": [],
   "source": [
    "import numpy as np\n",
    "import pandas as pd\n",
    "import matplotlib.pyplot as plt\n",
    "import statsmodels.formula.api as sm\n",
    "from statsmodels.stats.anova import anova_lm\n",
    "import scipy.stats as stats\n",
    "from sklearn.linear_model import LinearRegression"
   ]
  },
  {
   "cell_type": "code",
   "execution_count": null,
   "metadata": {},
   "outputs": [],
   "source": [
    "# The following lines make plots in dark mode look reasonable.  If you are not using dark\n",
    "# mode you don't need them, but you can also just leave them here, but you will need to set\n",
    "# dark_mode = False\n",
    "\n",
    "dark_mode = True\n",
    "# plotting choices for dark-mode\n",
    "if (dark_mode):\n",
    "    from jupyterthemes import jtplot\n",
    "    jtplot.style(theme='monokai', context='notebook', ticks=True, grid=False)\n",
    "    linecolor = 'w'\n",
    "else:\n",
    "    linecolor = 'k'"
   ]
  },
  {
   "cell_type": "code",
   "execution_count": null,
   "metadata": {
    "colab": {
     "base_uri": "https://localhost:8080/",
     "height": 390
    },
    "colab_type": "code",
    "id": "6VEtrhfU-1sU",
    "outputId": "c8ac845e-f79f-4532-9331-0123a266e2e0"
   },
   "outputs": [],
   "source": [
    "# Read in the data\n",
    "\n",
    "url = 'https://raw.githubusercontent.com/brash99/phys341/master/JupyterNotebooks/sample_data/alcohol_tobacco.txt'\n",
    "df = pd.read_csv(url)\n",
    "df.head(100)"
   ]
  },
  {
   "cell_type": "code",
   "execution_count": null,
   "metadata": {
    "colab": {},
    "colab_type": "code",
    "id": "Adzx_v6p-1sZ",
    "outputId": "7d2c6c20-9e3e-438f-ef7d-ac21c69b36e6"
   },
   "outputs": [],
   "source": [
    "# plot the data\n",
    "\n",
    "df.plot('Tobacco','Alcohol',style='o')\n",
    "plt.ylabel('Alcohol')\n",
    "plt.title('Sales of Alcohol and Tobacco in Several UK Regions')\n",
    "plt.show()"
   ]
  },
  {
   "cell_type": "markdown",
   "metadata": {
    "colab_type": "text",
    "id": "E9Jhemdn-1se"
   },
   "source": [
    "Observations:\n",
    "\n",
    "There appears to be a slight linear trend that associates higher alcohol sales with higher tobacco sales.  The data point corresponding to Northern Ireland appears to be an outlier (it has the lowest alcohol sales and the highest tobacco sales.\n",
    "\n",
    "Let's do some analysis that first determines if it is reasonable to consider removing Northern Ireland from this data set."
   ]
  },
  {
   "cell_type": "code",
   "execution_count": null,
   "metadata": {
    "colab": {},
    "colab_type": "code",
    "id": "aXdtTuHX-1sf",
    "outputId": "ed7de510-cceb-4d8a-ecba-513d2300351c"
   },
   "outputs": [],
   "source": [
    "result = sm.ols('Alcohol ~ Tobacco',df,).fit()\n",
    "print (result.summary())"
   ]
  },
  {
   "cell_type": "markdown",
   "metadata": {
    "colab_type": "text",
    "id": "-CTkQlQS-1sk"
   },
   "source": [
    "## Summary of information in the regression result table\n",
    "\n",
    "### Top Left Column:\n",
    "\n",
    "This section is fairly self explanatory.  It reports the dependent variable (i.e. the y-axis variable), along with the relevant degrees of freedom.  For our purposes here, Df Residuals (= $\\nu_{error}$) and Df Model (=$\\nu_{treatment}$) are the most important results.\n",
    "\n",
    "### Top Right Column:\n",
    "\n",
    "In this section, several important parameters are reported that are related to the statistical significance of\n",
    "the linear fit.  The F-statistic and the Prob (F-statistic), or p-value, are already familar to us.  We will\n",
    "discuss some of the others as we go along in the analysis.\n",
    "\n",
    "### Bottom Table\n",
    "\n",
    "In a linear fit, there are two parameters - the slope and the y-intercept.  The \"best fit\" values for these parameters are given in this table (coef), along with the uncertainties (std err) on each of these values.  This table also shows the t-values associated with these values ... a t-value of zero would indicate that the expected value of the parameter is zero, for example.  So, in this case, we see that the analysis shows that we can say that the y-intercept is statistically different from zero (P_intercept = 0.024), but the slope is not (P_slope = 0.509).  We see this is consistent with the 95% confidence interval limits given in this table as well."
   ]
  },
  {
   "cell_type": "code",
   "execution_count": 20,
   "metadata": {
    "colab": {},
    "colab_type": "code",
    "id": "lRsIlN0t-1sk",
    "outputId": "e7566c71-a176-46ac-b393-8436ef6452d0"
   },
   "outputs": [
    {
     "name": "stdout",
     "output_type": "stream",
     "text": [
      "4.351168486048515 0.3019383581272961 0.049984490275868376\n"
     ]
    }
   ],
   "source": [
    "# Extract information from the result object and plot along with the data.\n",
    "\n",
    "yint = result.params[0]\n",
    "slope = result.params[1]\n",
    "\n",
    "r2 = result.rsquared\n",
    "\n",
    "print (yint,slope,r2)"
   ]
  },
  {
   "cell_type": "code",
   "execution_count": 21,
   "metadata": {
    "colab": {},
    "colab_type": "code",
    "id": "cjPBXwHr-1so",
    "outputId": "902382f2-07e8-4d11-c5ed-14136e39f5a7"
   },
   "outputs": [
    {
     "data": {
      "image/png": "[encoded data removed]",
      "text/plain": [
       "<Figure size 576x504 with 1 Axes>"
      ]
     },
     "metadata": {},
     "output_type": "display_data"
    }
   ],
   "source": [
    "yfit = yint + slope*df['Tobacco']\n",
    "x = df['Tobacco']\n",
    "\n",
    "df.plot('Tobacco','Alcohol',style='o')\n",
    "plt.ylabel('Alcohol')\n",
    "plt.title('Sales of Alcohol and Tobacco in Several UK Regions')\n",
    "plt.plot(x,yfit)\n",
    "plt.show()"
   ]
  },
  {
   "cell_type": "markdown",
   "metadata": {
    "colab_type": "text",
    "id": "fCnQx_DK-1ss"
   },
   "source": [
    "## The key here is that we really need to include somehow the UNCERTAINTIES in the parameters in plotting the fit.  Otherwise, our fit is totally useless!!!!!\n",
    "\n",
    "It turns out that it is actually quite a difficult mathematical exercise to do this.  Fortunately, Python has some utilities to help us.  Someday, maybe you will learn in detail why this works the way that it does (and you should).  But for now, we are going to just trust in the folks that wrote the software and assume that they got it right (which they did)."
   ]
  },
  {
   "cell_type": "code",
   "execution_count": 24,
   "metadata": {
    "colab": {},
    "colab_type": "code",
    "id": "Ez9sqhUe-1st",
    "outputId": "09d58385-061f-4a10-9aa4-b9e4cf667220"
   },
   "outputs": [
    {
     "name": "stdout",
     "output_type": "stream",
     "text": [
      "Coefficients (from curve_fit)\n",
      "[4.35116853 0.30193835]\n",
      "Covariance Matrix (from curve_fit)\n",
      "[[ 2.58147706 -0.69659433]\n",
      " [-0.69659433  0.19252607]]\n"
     ]
    },
    {
     "data": {
      "image/png": "[encoded data removed]",
      "text/plain": [
       "<Figure size 576x504 with 1 Axes>"
      ]
     },
     "metadata": {},
     "output_type": "display_data"
    }
   ],
   "source": [
    "import seaborn as sns\n",
    "sns.regplot('Tobacco', 'Alcohol', df, ci=99.90)\n",
    "\n",
    "# Let's do a linear fit using the curve_fit utility from scipy, for comparision with seaborn regplot.\n",
    "\n",
    "from scipy.optimize import curve_fit\n",
    "\n",
    "def fitfunction(x,*paramlist):\n",
    "    return paramlist[0]+paramlist[1]*x\n",
    "\n",
    "init_vals = [0.0 for x in range(2)]\n",
    "x = np.array(df['Tobacco'])\n",
    "y = np.array(df['Alcohol'])\n",
    "popt, pcov = curve_fit(fitfunction,x,y,p0=init_vals)\n",
    "\n",
    "#xi = np.linspace(np.min(x),np.max(x),100)\n",
    "xi = np.linspace(2.5,5,100)\n",
    "ps = np.random.multivariate_normal(popt,pcov,10000)\n",
    "ysample=np.asarray([fitfunction(xi,*pi) for pi in ps])\n",
    "lower = np.percentile(ysample,0.05,axis=0)\n",
    "upper = np.percentile(ysample,99.95,axis=0)\n",
    "\n",
    "print(\"Coefficients (from curve_fit)\")\n",
    "print (popt)\n",
    "print(\"Covariance Matrix (from curve_fit)\")\n",
    "print (pcov)\n",
    "\n",
    "plt.plot(xi,lower)\n",
    "plt.plot(xi,upper)\n",
    "plt.show()"
   ]
  },
  {
   "cell_type": "markdown",
   "metadata": {
    "colab_type": "text",
    "id": "FX22wnMp-1sy"
   },
   "source": [
    "## Conclusion:  We are more than 99.99% sure that Northern Ireland is an outlier.  Let's remove it from the data set!"
   ]
  },
  {
   "cell_type": "code",
   "execution_count": 25,
   "metadata": {
    "colab": {},
    "colab_type": "code",
    "id": "K7HEwVqL-1sy",
    "outputId": "a2be25f3-f986-46a1-fe6c-c8df5aa40cb0"
   },
   "outputs": [
    {
     "name": "stdout",
     "output_type": "stream",
     "text": [
      "                            OLS Regression Results                            \n",
      "==============================================================================\n",
      "Dep. Variable:                Alcohol   R-squared:                       0.615\n",
      "Model:                            OLS   Adj. R-squared:                  0.567\n",
      "Method:                 Least Squares   F-statistic:                     12.78\n",
      "Date:                Wed, 09 Nov 2022   Prob (F-statistic):            0.00723\n",
      "Time:                        09:30:27   Log-Likelihood:                -4.9998\n",
      "No. Observations:                  10   AIC:                             14.00\n",
      "Df Residuals:                       8   BIC:                             14.60\n",
      "Df Model:                           1                                         \n",
      "Covariance Type:            nonrobust                                         \n",
      "==============================================================================\n",
      "                 coef    std err          t      P>|t|      [0.025      0.975]\n",
      "------------------------------------------------------------------------------\n",
      "Intercept      2.0412      1.001      2.038      0.076      -0.268       4.350\n",
      "Tobacco        1.0059      0.281      3.576      0.007       0.357       1.655\n",
      "==============================================================================\n",
      "Omnibus:                        2.542   Durbin-Watson:                   1.975\n",
      "Prob(Omnibus):                  0.281   Jarque-Bera (JB):                0.904\n",
      "Skew:                          -0.014   Prob(JB):                        0.636\n",
      "Kurtosis:                       1.527   Cond. No.                         27.2\n",
      "==============================================================================\n",
      "\n",
      "Warnings:\n",
      "[1] Standard Errors assume that the covariance matrix of the errors is correctly specified.\n"
     ]
    },
    {
     "name": "stderr",
     "output_type": "stream",
     "text": [
      "/usr/local/lib64/python3.6/site-packages/scipy/stats/stats.py:1604: UserWarning: kurtosistest only valid for n>=20 ... continuing anyway, n=10\n",
      "  \"anyway, n=%i\" % int(n))\n"
     ]
    }
   ],
   "source": [
    "result = sm.ols('Alcohol ~ Tobacco',df[:-1],).fit()\n",
    "print (result.summary())"
   ]
  },
  {
   "cell_type": "code",
   "execution_count": 26,
   "metadata": {
    "colab": {},
    "colab_type": "code",
    "id": "ygbgaUxx-1s1",
    "outputId": "6fed2d3d-80d4-40e9-f65f-21b25adbbe87"
   },
   "outputs": [
    {
     "name": "stdout",
     "output_type": "stream",
     "text": [
      "2.041223086838216 1.0058958323387581 0.6151066005541356\n",
      "Coefficients (from curve_fit)\n",
      "[2.04122312 1.00589582]\n",
      "Covariance Matrix (from curve_fit)\n",
      "[[ 1.0027222  -0.2788958 ]\n",
      " [-0.2788958   0.07914183]]\n"
     ]
    },
    {
     "data": {
      "image/png": "[encoded data removed]",
      "text/plain": [
       "<Figure size 576x504 with 1 Axes>"
      ]
     },
     "metadata": {},
     "output_type": "display_data"
    }
   ],
   "source": [
    "# Extract information from the result object and plot along with the data.\n",
    "\n",
    "yint = result.params[0]\n",
    "slope = result.params[1]\n",
    "\n",
    "r2 = result.rsquared\n",
    "\n",
    "print (yint,slope,r2)\n",
    "\n",
    "import seaborn as sns\n",
    "sns.regplot('Tobacco', 'Alcohol', df[:-1], ci=95)\n",
    "\n",
    "# Let's do a linear fit using the curve_fit utility from scipy, for comparision with seaborn regplot.\n",
    "\n",
    "from scipy.optimize import curve_fit\n",
    "\n",
    "def fitfunction(x,*paramlist):\n",
    "    return paramlist[0]+paramlist[1]*x\n",
    "\n",
    "init_vals = [0.0 for x in range(2)]\n",
    "x = np.array(df['Tobacco'][:-1])\n",
    "y = np.array(df['Alcohol'][:-1])\n",
    "popt, pcov = curve_fit(fitfunction,x,y,p0=init_vals)\n",
    "\n",
    "#xi = np.linspace(np.min(x),np.max(x),100)\n",
    "xi = np.linspace(2.5,5.0,100)\n",
    "ps = np.random.multivariate_normal(popt,pcov,10000)\n",
    "ysample=np.asarray([fitfunction(xi,*pi) for pi in ps])\n",
    "\n",
    "## Here is a bit of code to plot the sample data\n",
    "#for i in range(10):\n",
    "#    xmulti = []\n",
    "#    ymulti = []\n",
    "#    for j in range(100):\n",
    "#        ymulti.append(ysample[j][i])\n",
    "#        xmulti.append(xi[i])\n",
    "#    xmulti = np.array(xmulti)\n",
    "#    ymulti = np.array(ymulti)\n",
    "#    plt.scatter(xmulti,ymulti)\n",
    "# end of code snippet\n",
    "\n",
    "lower = np.percentile(ysample,2.5,axis=0)\n",
    "upper = np.percentile(ysample,97.5,axis=0)\n",
    "middle = (lower+upper)/2.0\n",
    "\n",
    "print(\"Coefficients (from curve_fit)\")\n",
    "print (popt)\n",
    "print(\"Covariance Matrix (from curve_fit)\")\n",
    "print (pcov)\n",
    "\n",
    "plt.plot(xi,middle)\n",
    "plt.plot(xi,lower)\n",
    "plt.plot(xi,upper)\n",
    "plt.show()"
   ]
  },
  {
   "cell_type": "markdown",
   "metadata": {
    "colab_type": "text",
    "id": "Z7MmcVJD-1s5"
   },
   "source": [
    "## Conclusion:  For these 10 regions, there is a statistically significant correlaton between alcohol and tobacco sales (p = 0.007).\n",
    "\n",
    "So, the next question is, what is the connection between this analysis and the one-way ANOVA analysis that we could have performed on this data?  Let's find out!"
   ]
  },
  {
   "cell_type": "code",
   "execution_count": 15,
   "metadata": {
    "colab": {},
    "colab_type": "code",
    "id": "r0J8JZFj-1s5",
    "outputId": "56b4e4e5-2c96-4ae3-c03d-abbb1bd4eea0"
   },
   "outputs": [
    {
     "name": "stdout",
     "output_type": "stream",
     "text": [
      "0    4.03\n",
      "1    3.76\n",
      "2    3.77\n",
      "3    3.34\n",
      "4    3.47\n",
      "5    2.92\n",
      "6    3.20\n",
      "7    2.71\n",
      "8    3.53\n",
      "9    4.51\n",
      "Name: Tobacco, dtype: float64\n",
      "v_total, v_model, v_error =  9 1 8\n"
     ]
    }
   ],
   "source": [
    "N_model = 2\n",
    "v_model = N_model - 1\n",
    "\n",
    "print (df['Tobacco'][:-1])\n",
    "\n",
    "N = len(df['Tobacco'][:-1])\n",
    "v_total = N - 1\n",
    "v_error = v_total - v_model\n",
    "\n",
    "print (\"v_total, v_model, v_error = \", v_total,v_model,v_error)"
   ]
  },
  {
   "cell_type": "code",
   "execution_count": 16,
   "metadata": {
    "colab": {},
    "colab_type": "code",
    "id": "5g973o1r-1s8",
    "outputId": "c7592662-ee7f-4d7c-bc88-50e199713f6a"
   },
   "outputs": [
    {
     "name": "stdout",
     "output_type": "stream",
     "text": [
      "4.134840000000001 2.543367376235263 1.5914726237647385\n"
     ]
    }
   ],
   "source": [
    "SS_total = (N-1)*df['Alcohol'][:-1].var()\n",
    "\n",
    "SS_model = r2*SS_total\n",
    "\n",
    "SS_error = SS_total - SS_model\n",
    "\n",
    "print (SS_total, SS_model, SS_error)"
   ]
  },
  {
   "cell_type": "code",
   "execution_count": 17,
   "metadata": {
    "colab": {},
    "colab_type": "code",
    "id": "_URLQnHT-1tA",
    "outputId": "2042634e-c027-4b6e-f88b-dc0019d1f157"
   },
   "outputs": [
    {
     "name": "stdout",
     "output_type": "stream",
     "text": [
      "F Signal/Noise = 12.78 \n",
      "Critical F-value = 5.32\n",
      "Pvalue = 0.007\n",
      "Source     df     Sum of Squares Mean Square     f     P-value\n",
      "Model      1       2.54           2.54        12.78    0.007\n",
      "Error      8       1.59           0.20\n",
      "Total      9       4.13\n"
     ]
    }
   ],
   "source": [
    "# Proceed with normal ANOVA from here\n",
    "MS_model = SS_model/v_model\n",
    "MS_error = SS_error/v_error\n",
    "\n",
    "fSN = MS_model/MS_error\n",
    "\n",
    "print (\"F Signal/Noise = %0.2f \" % fSN)\n",
    "\n",
    "alpha = 0.05\n",
    "\n",
    "fdist = stats.f(v_model,v_error)\n",
    "fhigh = fdist.ppf(1-alpha)\n",
    "\n",
    "print (\"Critical F-value = %0.2f\" % (fhigh))\n",
    "\n",
    "pvalue = (1-fdist.cdf(fSN))\n",
    "    \n",
    "print (\"Pvalue = %0.3f\" % (pvalue))\n",
    "\n",
    "# print table\n",
    "\n",
    "print (\"Source     df     Sum of Squares Mean Square     f     P-value\")\n",
    "print (\"Model      %0.0f       %0.2f           %0.2f        %0.2f    %0.3f\" %(v_model,SS_model,MS_model,fSN,pvalue))\n",
    "print (\"Error      %0.0f       %0.2f           %0.2f\" %(v_error,SS_error,MS_error))\n",
    "print (\"Total      %0.0f       %0.2f\" %(v_total,SS_total))"
   ]
  },
  {
   "cell_type": "code",
   "execution_count": 18,
   "metadata": {
    "colab": {},
    "colab_type": "code",
    "id": "pRdY0LAV-1tD",
    "outputId": "d51f9314-37ca-48dd-99c3-df9e9c348c13"
   },
   "outputs": [
    {
     "name": "stdout",
     "output_type": "stream",
     "text": [
      "                            OLS Regression Results                            \n",
      "==============================================================================\n",
      "Dep. Variable:                Alcohol   R-squared:                       0.050\n",
      "Model:                            OLS   Adj. R-squared:                 -0.056\n",
      "Method:                 Least Squares   F-statistic:                    0.4735\n",
      "Date:                Mon, 07 Nov 2022   Prob (F-statistic):              0.509\n",
      "Time:                        15:49:38   Log-Likelihood:                -12.317\n",
      "No. Observations:                  11   AIC:                             28.63\n",
      "Df Residuals:                       9   BIC:                             29.43\n",
      "Df Model:                           1                                         \n",
      "Covariance Type:            nonrobust                                         \n",
      "==============================================================================\n",
      "                 coef    std err          t      P>|t|      [0.025      0.975]\n",
      "------------------------------------------------------------------------------\n",
      "Intercept      4.3512      1.607      2.708      0.024       0.717       7.986\n",
      "Tobacco        0.3019      0.439      0.688      0.509      -0.691       1.295\n",
      "==============================================================================\n",
      "Omnibus:                        3.123   Durbin-Watson:                   1.655\n",
      "Prob(Omnibus):                  0.210   Jarque-Bera (JB):                1.397\n",
      "Skew:                          -0.873   Prob(JB):                        0.497\n",
      "Kurtosis:                       3.022   Cond. No.                         25.5\n",
      "==============================================================================\n",
      "\n",
      "Warnings:\n",
      "[1] Standard Errors assume that the covariance matrix of the errors is correctly specified.\n"
     ]
    },
    {
     "name": "stderr",
     "output_type": "stream",
     "text": [
      "/usr/local/lib64/python3.6/site-packages/scipy/stats/stats.py:1604: UserWarning: kurtosistest only valid for n>=20 ... continuing anyway, n=11\n",
      "  \"anyway, n=%i\" % int(n))\n"
     ]
    }
   ],
   "source": [
    "# Let's go back and look at the full data set (with Northern Ireland included)\n",
    "\n",
    "result = sm.ols('Alcohol ~ Tobacco',df,).fit()\n",
    "print (result.summary())"
   ]
  },
  {
   "cell_type": "code",
   "execution_count": null,
   "metadata": {
    "colab": {},
    "colab_type": "code",
    "id": "8ts8kGz4-1tF"
   },
   "outputs": [],
   "source": []
  },
  {
   "cell_type": "code",
   "execution_count": 19,
   "metadata": {
    "colab": {},
    "colab_type": "code",
    "id": "9Ge5IC5H-1tI",
    "outputId": "931b1805-0cd1-4f04-e635-1eb84dd40340"
   },
   "outputs": [
    {
     "name": "stdout",
     "output_type": "stream",
     "text": [
      "v_total, v_model, v_error =  10 1 9\n",
      "6.364254545454548 0.31811401944042395 6.046140526014124\n",
      "F Signal/Noise = 0.47 \n",
      "Critical F-value = 5.12\n",
      "Pvalue = 0.509\n",
      "Source     df     Sum of Squares Mean Square     f     P-value\n",
      "Model      1       0.32           0.32        0.47    0.509\n",
      "Error      9       6.05           0.67\n",
      "Total      10       6.36\n"
     ]
    }
   ],
   "source": [
    "# Extract information from the result object and plot along with the data.\n",
    "\n",
    "yint = result.params[0]\n",
    "slope = result.params[1]\n",
    "\n",
    "r2 = result.rsquared\n",
    "\n",
    "N_model = 2\n",
    "v_model = N_model - 1\n",
    "\n",
    "N = len(df['Tobacco'])\n",
    "v_total = N - 1\n",
    "v_error = v_total - v_model\n",
    "\n",
    "print (\"v_total, v_model, v_error = \", v_total,v_model,v_error)\n",
    "\n",
    "SS_total = (N-1)*df['Alcohol'].var()\n",
    "\n",
    "SS_model = r2*SS_total\n",
    "\n",
    "SS_error = SS_total - SS_model\n",
    "\n",
    "print (SS_total, SS_model, SS_error)\n",
    "\n",
    "# Proceed with normal ANOVA from here\n",
    "MS_model = SS_model/v_model\n",
    "MS_error = SS_error/v_error\n",
    "\n",
    "fSN = MS_model/MS_error\n",
    "\n",
    "print (\"F Signal/Noise = %0.2f \" % fSN)\n",
    "\n",
    "alpha = 0.05\n",
    "\n",
    "fdist = stats.f(v_model,v_error)\n",
    "fhigh = fdist.ppf(1-alpha)\n",
    "\n",
    "print (\"Critical F-value = %0.2f\" % (fhigh))\n",
    "\n",
    "pvalue = 1-fdist.cdf(fSN)\n",
    "    \n",
    "print (\"Pvalue = %0.3f\" % (pvalue))\n",
    "\n",
    "# print table\n",
    "\n",
    "print (\"Source     df     Sum of Squares Mean Square     f     P-value\")\n",
    "print (\"Model      %0.0f       %0.2f           %0.2f        %0.2f    %0.3f\" %(v_model,SS_model,MS_model,fSN,pvalue))\n",
    "print (\"Error      %0.0f       %0.2f           %0.2f\" %(v_error,SS_error,MS_error))\n",
    "print (\"Total      %0.0f       %0.2f\" %(v_total,SS_total))"
   ]
  },
  {
   "cell_type": "code",
   "execution_count": null,
   "metadata": {
    "colab": {},
    "colab_type": "code",
    "id": "liAcR06A-1tK"
   },
   "outputs": [],
   "source": []
  },
  {
   "cell_type": "code",
   "execution_count": null,
   "metadata": {
    "colab": {},
    "colab_type": "code",
    "id": "PEokiIFt-1tM"
   },
   "outputs": [],
   "source": []
  }
 ],
 "metadata": {
  "colab": {
   "name": "LinearRegression.ipynb",
   "provenance": []
  },
  "kernelspec": {
   "display_name": "Python 3",
   "language": "python",
   "name": "python3"
  },
  "language_info": {
   "codemirror_mode": {
    "name": "ipython",
    "version": 3
   },
   "file_extension": ".py",
   "mimetype": "text/x-python",
   "name": "python",
   "nbconvert_exporter": "python",
   "pygments_lexer": "ipython3",
   "version": "3.6.8"
  },
  "latex_envs": {
   "LaTeX_envs_menu_present": true,
   "autoclose": false,
   "autocomplete": true,
   "bibliofile": "biblio.bib",
   "cite_by": "apalike",
   "current_citInitial": 1,
   "eqLabelWithNumbers": true,
   "eqNumInitial": 1,
   "hotkeys": {
    "equation": "Ctrl-E",
    "itemize": "Ctrl-I"
   },
   "labels_anchors": false,
   "latex_user_defs": false,
   "report_style_numbering": false,
   "user_envs_cfg": false
  }
 },
 "nbformat": 4,
 "nbformat_minor": 1
}
