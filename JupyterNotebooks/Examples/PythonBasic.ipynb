{
 "cells": [
  {
   "cell_type": "markdown",
   "metadata": {},
   "source": [
    "First, some very basic pieces of code to make sure that python is working ... the infamous HelloWorld program, and then a little piece of code that uses a function call."
   ]
  },
  {
   "cell_type": "code",
   "execution_count": 1,
   "metadata": {},
   "outputs": [
    {
     "name": "stdout",
     "output_type": "stream",
     "text": [
      "Hello World!\n"
     ]
    }
   ],
   "source": [
    "print (\"Hello World!\")"
   ]
  },
  {
   "cell_type": "code",
   "execution_count": 2,
   "metadata": {},
   "outputs": [],
   "source": [
    "def squared(x):\n",
    "    return x**2"
   ]
  },
  {
   "cell_type": "code",
   "execution_count": 3,
   "metadata": {},
   "outputs": [
    {
     "name": "stdout",
     "output_type": "stream",
     "text": [
      "0 0\n",
      "1 1\n",
      "2 4\n",
      "3 9\n",
      "4 16\n",
      "5 25\n",
      "Done.\n"
     ]
    }
   ],
   "source": [
    "for ii in range(6):\n",
    "    print (ii,squared(ii))\n",
    "\n",
    "print (\"Done.\")"
   ]
  },
  {
   "cell_type": "markdown",
   "metadata": {},
   "source": [
    "One of the most important things to consider when using any computational resource for data analysis and experiment design is the TYPE of the data that is going to be stored.  Typically, we try to use the appropriate DATA STRUCTURE for the problem at hand.  The code below provides some coverage of the data structures that we will use the most in this course.\n"
   ]
  },
  {
   "cell_type": "markdown",
   "metadata": {},
   "source": [
    "<bf>Lists and Tuples:</bf>"
   ]
  },
  {
   "cell_type": "code",
   "execution_count": 4,
   "metadata": {},
   "outputs": [
    {
     "name": "stdout",
     "output_type": "stream",
     "text": [
      "Lists:\n",
      "['Paul', 'Trible', 1, 'University Place', 'Newport News', 'VA', 23517]\n",
      "['Paul', 'Trible', 1, 'Avenue of the Arts', 'Newport News', 'VA', 23517, 'President']\n",
      "Avenue of the Arts\n",
      "Tuples:\n",
      "('Paul', 'Trible', 1, 'University Place', 'Newport News', 'VA', 23517)\n",
      "University Place\n"
     ]
    }
   ],
   "source": [
    "# Python lists are 'mutable', meaning that their values can be changed, and the list can be added to\n",
    "# or subtracted from after its initial creation.\n",
    "\n",
    "print(\"Lists:\")\n",
    "myList = ['Paul','Trible',1,'University Place','Newport News',\"VA\",23517]\n",
    "\n",
    "print (myList)\n",
    "\n",
    "myList.append('President')\n",
    "myList[3] = \"Avenue of the Arts\"\n",
    "\n",
    "print (myList)\n",
    "\n",
    "print(myList[3])\n",
    "\n",
    "# Python tuples are 'immutable', meaning they CANNOT be changed after creation.\n",
    "\n",
    "myTuple = ('Paul','Trible',1,'University Place','Newport News',\"VA\",23517)\n",
    "\n",
    "print (\"Tuples:\")\n",
    "print (myTuple)\n",
    "\n",
    "print (myTuple[3])\n",
    "\n",
    "# These statements would causes errors:\n",
    "# myTuple.append('President')\n",
    "# myTuple[4] = \"Avenue of the Arts\"\n"
   ]
  },
  {
   "cell_type": "markdown",
   "metadata": {},
   "source": [
    "Arrays:"
   ]
  },
  {
   "cell_type": "code",
   "execution_count": 1,
   "metadata": {},
   "outputs": [
    {
     "name": "stdout",
     "output_type": "stream",
     "text": [
      "Lists:  [1.0, 2.0, 3.0, 4.0, 5.0] [-1.0, -2.0, -3.0, -4.0, -5.0]\n",
      "Arrays:  [1. 2. 3. 4. 5.] [-1. -2. -3. -4. -5.]\n",
      "Third element of first list:  3.0\n",
      "Third element of first array:  3.0\n",
      "Sum of two arrays:  [0. 0. 0. 0. 0.]\n",
      "Dot product of two arrays:  -55.0\n",
      "element by element multi. :  [ -1.  -4.  -9. -16. -25.]\n",
      "Now, some two dimensional stuff ... \n",
      "A =  [[1 2]\n",
      " [3 4]]  X =  [5 6]\n",
      "A * X = Y =  [17 39]\n"
     ]
    }
   ],
   "source": [
    "# From a mathematical point of view, an array is a matrix (of real numbers).\n",
    "#\n",
    "# In the analysis of data (especially fitting of data) there is a LOT of theory that is based\n",
    "# on the principles of linear algebra, which is rooted in the mathematics of matrices.  Thus, it will \n",
    "# end up being important to us in this course.\n",
    "#\n",
    "# N.B.  a vector (also part of numpy) is different than a 1D array/matrix!!!  You can take \n",
    "# the transpose of a 1D row matrix, and get a 1D column matrix, whereas you cannot say \n",
    "# the same thing about a vector!!!\n",
    "\n",
    "# We import the numpy module here ... this is the most used numerical library in Python.\n",
    "\n",
    "import numpy as np\n",
    "\n",
    "myList1 = [1.0, 2.0, 3.0, 4.0, 5.0]\n",
    "myList2 = [-1.0, -2.0, -3.0, -4.0, -5.0]\n",
    "\n",
    "myArray1 = np.array(myList1)\n",
    "myArray2 = np.array(myList2)\n",
    "\n",
    "print (\"Lists: \",myList1,myList2)\n",
    "print (\"Arrays: \",myArray1,myArray2)\n",
    "\n",
    "print (\"Third element of first list: \",myList1[2])\n",
    "print (\"Third element of first array: \",myArray1[2])\n",
    "\n",
    "myArray3 = myArray1 + myArray2\n",
    "\n",
    "print (\"Sum of two arrays: \",myArray3)\n",
    "\n",
    "myArray4 = myArray2.transpose()\n",
    "\n",
    "dotProduct = myArray1.dot(myArray4)\n",
    "\n",
    "print (\"Dot product of two arrays: \",dotProduct)\n",
    "\n",
    "myArray5 = myArray1*myArray2\n",
    "\n",
    "print (\"element by element multi. : \",myArray5)\n",
    "\n",
    "print (\"Now, some two dimensional stuff ... \")\n",
    "\n",
    "A = [[1,2],[3,4]]\n",
    "npA = np.array(A)\n",
    "\n",
    "X = [5,6]\n",
    "npX = (np.array(X)).transpose()\n",
    "\n",
    "print (\"A = \",npA,\" X = \",npX)\n",
    "\n",
    "npY = npA.dot(npX)\n",
    "\n",
    "print (\"A * X = Y = \", npY)"
   ]
  },
  {
   "cell_type": "markdown",
   "metadata": {},
   "source": [
    "DataFrames:"
   ]
  },
  {
   "cell_type": "code",
   "execution_count": 6,
   "metadata": {},
   "outputs": [
    {
     "data": {
      "text/html": [
       "<div>\n",
       "<style scoped>\n",
       "    .dataframe tbody tr th:only-of-type {\n",
       "        vertical-align: middle;\n",
       "    }\n",
       "\n",
       "    .dataframe tbody tr th {\n",
       "        vertical-align: top;\n",
       "    }\n",
       "\n",
       "    .dataframe thead th {\n",
       "        text-align: right;\n",
       "    }\n",
       "</style>\n",
       "<table border=\"1\" class=\"dataframe\">\n",
       "  <thead>\n",
       "    <tr style=\"text-align: right;\">\n",
       "      <th></th>\n",
       "      <th>Time</th>\n",
       "      <th>x</th>\n",
       "      <th>y</th>\n",
       "    </tr>\n",
       "  </thead>\n",
       "  <tbody>\n",
       "    <tr>\n",
       "      <th>0</th>\n",
       "      <td>0.0</td>\n",
       "      <td>0.000000</td>\n",
       "      <td>1.000000</td>\n",
       "    </tr>\n",
       "    <tr>\n",
       "      <th>1</th>\n",
       "      <td>0.1</td>\n",
       "      <td>0.099833</td>\n",
       "      <td>0.995004</td>\n",
       "    </tr>\n",
       "    <tr>\n",
       "      <th>2</th>\n",
       "      <td>0.2</td>\n",
       "      <td>0.198669</td>\n",
       "      <td>0.980067</td>\n",
       "    </tr>\n",
       "    <tr>\n",
       "      <th>3</th>\n",
       "      <td>0.3</td>\n",
       "      <td>0.295520</td>\n",
       "      <td>0.955336</td>\n",
       "    </tr>\n",
       "    <tr>\n",
       "      <th>4</th>\n",
       "      <td>0.4</td>\n",
       "      <td>0.389418</td>\n",
       "      <td>0.921061</td>\n",
       "    </tr>\n",
       "  </tbody>\n",
       "</table>\n",
       "</div>"
      ],
      "text/plain": [
       "   Time         x         y\n",
       "0   0.0  0.000000  1.000000\n",
       "1   0.1  0.099833  0.995004\n",
       "2   0.2  0.198669  0.980067\n",
       "3   0.3  0.295520  0.955336\n",
       "4   0.4  0.389418  0.921061"
      ]
     },
     "execution_count": 6,
     "metadata": {},
     "output_type": "execute_result"
    }
   ],
   "source": [
    "# A dataframe is a special Python datatype provided by the external package called pandas\n",
    "\n",
    "import pandas as pd\n",
    "\n",
    "t = np.arange(0,10,0.1) \n",
    "x = np.sin(t) \n",
    "y = np.cos(t) \n",
    "df = pd.DataFrame({'Time':t, 'x':x, 'y':y})\n",
    "\n",
    "# Once created, we can examine the DataFrame with various methods\n",
    "#\n",
    "# For example, to look at the first few rows of the DataFrame:\n",
    "\n",
    "df.head()"
   ]
  },
  {
   "cell_type": "code",
   "execution_count": 7,
   "metadata": {},
   "outputs": [
    {
     "data": {
      "text/html": [
       "<div>\n",
       "<style scoped>\n",
       "    .dataframe tbody tr th:only-of-type {\n",
       "        vertical-align: middle;\n",
       "    }\n",
       "\n",
       "    .dataframe tbody tr th {\n",
       "        vertical-align: top;\n",
       "    }\n",
       "\n",
       "    .dataframe thead th {\n",
       "        text-align: right;\n",
       "    }\n",
       "</style>\n",
       "<table border=\"1\" class=\"dataframe\">\n",
       "  <thead>\n",
       "    <tr style=\"text-align: right;\">\n",
       "      <th></th>\n",
       "      <th>Time</th>\n",
       "      <th>x</th>\n",
       "      <th>y</th>\n",
       "    </tr>\n",
       "  </thead>\n",
       "  <tbody>\n",
       "    <tr>\n",
       "      <th>95</th>\n",
       "      <td>9.5</td>\n",
       "      <td>-0.075151</td>\n",
       "      <td>-0.997172</td>\n",
       "    </tr>\n",
       "    <tr>\n",
       "      <th>96</th>\n",
       "      <td>9.6</td>\n",
       "      <td>-0.174327</td>\n",
       "      <td>-0.984688</td>\n",
       "    </tr>\n",
       "    <tr>\n",
       "      <th>97</th>\n",
       "      <td>9.7</td>\n",
       "      <td>-0.271761</td>\n",
       "      <td>-0.962365</td>\n",
       "    </tr>\n",
       "    <tr>\n",
       "      <th>98</th>\n",
       "      <td>9.8</td>\n",
       "      <td>-0.366479</td>\n",
       "      <td>-0.930426</td>\n",
       "    </tr>\n",
       "    <tr>\n",
       "      <th>99</th>\n",
       "      <td>9.9</td>\n",
       "      <td>-0.457536</td>\n",
       "      <td>-0.889191</td>\n",
       "    </tr>\n",
       "  </tbody>\n",
       "</table>\n",
       "</div>"
      ],
      "text/plain": [
       "    Time         x         y\n",
       "95   9.5 -0.075151 -0.997172\n",
       "96   9.6 -0.174327 -0.984688\n",
       "97   9.7 -0.271761 -0.962365\n",
       "98   9.8 -0.366479 -0.930426\n",
       "99   9.9 -0.457536 -0.889191"
      ]
     },
     "execution_count": 7,
     "metadata": {},
     "output_type": "execute_result"
    }
   ],
   "source": [
    "# To look at the last few rows:\n",
    "df.tail()"
   ]
  },
  {
   "cell_type": "code",
   "execution_count": 8,
   "metadata": {},
   "outputs": [
    {
     "data": {
      "text/html": [
       "<div>\n",
       "<style scoped>\n",
       "    .dataframe tbody tr th:only-of-type {\n",
       "        vertical-align: middle;\n",
       "    }\n",
       "\n",
       "    .dataframe tbody tr th {\n",
       "        vertical-align: top;\n",
       "    }\n",
       "\n",
       "    .dataframe thead th {\n",
       "        text-align: right;\n",
       "    }\n",
       "</style>\n",
       "<table border=\"1\" class=\"dataframe\">\n",
       "  <thead>\n",
       "    <tr style=\"text-align: right;\">\n",
       "      <th></th>\n",
       "      <th>Time</th>\n",
       "      <th>y</th>\n",
       "    </tr>\n",
       "  </thead>\n",
       "  <tbody>\n",
       "    <tr>\n",
       "      <th>0</th>\n",
       "      <td>0.0</td>\n",
       "      <td>1.000000</td>\n",
       "    </tr>\n",
       "    <tr>\n",
       "      <th>1</th>\n",
       "      <td>0.1</td>\n",
       "      <td>0.995004</td>\n",
       "    </tr>\n",
       "    <tr>\n",
       "      <th>2</th>\n",
       "      <td>0.2</td>\n",
       "      <td>0.980067</td>\n",
       "    </tr>\n",
       "    <tr>\n",
       "      <th>3</th>\n",
       "      <td>0.3</td>\n",
       "      <td>0.955336</td>\n",
       "    </tr>\n",
       "    <tr>\n",
       "      <th>4</th>\n",
       "      <td>0.4</td>\n",
       "      <td>0.921061</td>\n",
       "    </tr>\n",
       "  </tbody>\n",
       "</table>\n",
       "</div>"
      ],
      "text/plain": [
       "   Time         y\n",
       "0   0.0  1.000000\n",
       "1   0.1  0.995004\n",
       "2   0.2  0.980067\n",
       "3   0.3  0.955336\n",
       "4   0.4  0.921061"
      ]
     },
     "execution_count": 8,
     "metadata": {},
     "output_type": "execute_result"
    }
   ],
   "source": [
    "# Often, we only are interested in a subset of the data ... this is common when we have retrieved\n",
    "# a large publicly available data file from some source.  We will discuss this more later on, but for now,\n",
    "# let's extract two columns from the original DataFrame, and store these in a new DataFrame:\n",
    "\n",
    "data = df[['Time', 'y']]\n",
    "\n",
    "data.head()"
   ]
  },
  {
   "cell_type": "code",
   "execution_count": 9,
   "metadata": {},
   "outputs": [
    {
     "name": "stdout",
     "output_type": "stream",
     "text": [
      "[[ 0.          1.        ]\n",
      " [ 0.1         0.99500417]\n",
      " [ 0.2         0.98006658]\n",
      " [ 0.3         0.95533649]\n",
      " [ 0.4         0.92106099]\n",
      " [ 0.5         0.87758256]\n",
      " [ 0.6         0.82533561]\n",
      " [ 0.7         0.76484219]\n",
      " [ 0.8         0.69670671]\n",
      " [ 0.9         0.62160997]\n",
      " [ 1.          0.54030231]\n",
      " [ 1.1         0.45359612]\n",
      " [ 1.2         0.36235775]\n",
      " [ 1.3         0.26749883]\n",
      " [ 1.4         0.16996714]\n",
      " [ 1.5         0.0707372 ]\n",
      " [ 1.6        -0.02919952]\n",
      " [ 1.7        -0.12884449]\n",
      " [ 1.8        -0.22720209]\n",
      " [ 1.9        -0.32328957]\n",
      " [ 2.         -0.41614684]\n",
      " [ 2.1        -0.5048461 ]\n",
      " [ 2.2        -0.58850112]\n",
      " [ 2.3        -0.66627602]\n",
      " [ 2.4        -0.73739372]\n",
      " [ 2.5        -0.80114362]\n",
      " [ 2.6        -0.85688875]\n",
      " [ 2.7        -0.90407214]\n",
      " [ 2.8        -0.94222234]\n",
      " [ 2.9        -0.97095817]\n",
      " [ 3.         -0.9899925 ]\n",
      " [ 3.1        -0.99913515]\n",
      " [ 3.2        -0.99829478]\n",
      " [ 3.3        -0.98747977]\n",
      " [ 3.4        -0.96679819]\n",
      " [ 3.5        -0.93645669]\n",
      " [ 3.6        -0.89675842]\n",
      " [ 3.7        -0.84810003]\n",
      " [ 3.8        -0.79096771]\n",
      " [ 3.9        -0.7259323 ]\n",
      " [ 4.         -0.65364362]\n",
      " [ 4.1        -0.57482395]\n",
      " [ 4.2        -0.49026082]\n",
      " [ 4.3        -0.40079917]\n",
      " [ 4.4        -0.30733287]\n",
      " [ 4.5        -0.2107958 ]\n",
      " [ 4.6        -0.11215253]\n",
      " [ 4.7        -0.01238866]\n",
      " [ 4.8         0.08749898]\n",
      " [ 4.9         0.18651237]\n",
      " [ 5.          0.28366219]\n",
      " [ 5.1         0.37797774]\n",
      " [ 5.2         0.46851667]\n",
      " [ 5.3         0.55437434]\n",
      " [ 5.4         0.63469288]\n",
      " [ 5.5         0.70866977]\n",
      " [ 5.6         0.77556588]\n",
      " [ 5.7         0.83471278]\n",
      " [ 5.8         0.88551952]\n",
      " [ 5.9         0.92747843]\n",
      " [ 6.          0.96017029]\n",
      " [ 6.1         0.98326844]\n",
      " [ 6.2         0.9965421 ]\n",
      " [ 6.3         0.99985864]\n",
      " [ 6.4         0.99318492]\n",
      " [ 6.5         0.97658763]\n",
      " [ 6.6         0.95023259]\n",
      " [ 6.7         0.91438315]\n",
      " [ 6.8         0.86939749]\n",
      " [ 6.9         0.8157251 ]\n",
      " [ 7.          0.75390225]\n",
      " [ 7.1         0.68454667]\n",
      " [ 7.2         0.60835131]\n",
      " [ 7.3         0.52607752]\n",
      " [ 7.4         0.43854733]\n",
      " [ 7.5         0.34663532]\n",
      " [ 7.6         0.25125984]\n",
      " [ 7.7         0.15337386]\n",
      " [ 7.8         0.05395542]\n",
      " [ 7.9        -0.04600213]\n",
      " [ 8.         -0.14550003]\n",
      " [ 8.1        -0.24354415]\n",
      " [ 8.2        -0.33915486]\n",
      " [ 8.3        -0.43137684]\n",
      " [ 8.4        -0.51928865]\n",
      " [ 8.5        -0.6020119 ]\n",
      " [ 8.6        -0.67872005]\n",
      " [ 8.7        -0.74864665]\n",
      " [ 8.8        -0.81109301]\n",
      " [ 8.9        -0.86543521]\n",
      " [ 9.         -0.91113026]\n",
      " [ 9.1        -0.9477216 ]\n",
      " [ 9.2        -0.97484362]\n",
      " [ 9.3        -0.99222533]\n",
      " [ 9.4        -0.99969304]\n",
      " [ 9.5        -0.99717216]\n",
      " [ 9.6        -0.98468786]\n",
      " [ 9.7        -0.96236488]\n",
      " [ 9.8        -0.93042627]\n",
      " [ 9.9        -0.88919115]]\n"
     ]
    }
   ],
   "source": [
    "# We can get access to the data values in the DataFrame as a numpy array:\n",
    "print (data.values)"
   ]
  },
  {
   "cell_type": "code",
   "execution_count": 10,
   "metadata": {},
   "outputs": [
    {
     "name": "stdout",
     "output_type": "stream",
     "text": [
      "             Time           y\n",
      "count  100.000000  100.000000\n",
      "mean     4.950000   -0.045161\n",
      "std      2.901149    0.726266\n",
      "min      0.000000   -0.999693\n",
      "25%      2.475000   -0.793512\n",
      "50%      4.950000   -0.079077\n",
      "75%      7.425000    0.687587\n",
      "max      9.900000    1.000000\n"
     ]
    }
   ],
   "source": [
    "# One of the most interesting and useful methods of DataFrame is the describe() method.  It\n",
    "# returns some basic statistical information about each column of data, such as the number of\n",
    "# entries, the average value of the data in the column, the standard deviation, min/max values,\n",
    "# and the quartile values.  We will discuss all of these statistical quantities in more detail later.\n",
    "print (data.describe())"
   ]
  },
  {
   "cell_type": "code",
   "execution_count": 19,
   "metadata": {},
   "outputs": [
    {
     "data": {
      "image/png": "[encoded data removed]",
      "text/plain": [
       "<Figure size 432x288 with 1 Axes>"
      ]
     },
     "metadata": {
      "needs_background": "light"
     },
     "output_type": "display_data"
    }
   ],
   "source": [
    "# The DataFrame class also contains several methods for visualizing the data.  One graphical\n",
    "# method for visualizing the basic statistical information presented above is called a boxplot.\n",
    "#\n",
    "# The error bars in a boxplot represent the max and min values of the column of data, and the \"box\"\n",
    "# for each column shows the average value as the middle line, and the 25% and 75% quartiles as the lower\n",
    "# and upper boundaries of the box, respectively.\n",
    "#\n",
    "# The most popular visualization package in Python is matplotlib.  We import part of this package (pyplot) here.\n",
    "\n",
    "import matplotlib.pyplot as plt\n",
    "data.boxplot()\n",
    "plt.show()"
   ]
  },
  {
   "cell_type": "code",
   "execution_count": 12,
   "metadata": {},
   "outputs": [],
   "source": [
    "# Another popular visualization package in python, that has some very advanced and beautiful features\n",
    "# is the seaborn package. We import that here:\n",
    "\n",
    "import seaborn as sns"
   ]
  },
  {
   "cell_type": "code",
   "execution_count": 20,
   "metadata": {},
   "outputs": [
    {
     "data": {
      "image/png": "[encoded data removed]",
      "text/plain": [
       "<Figure size 432x288 with 1 Axes>"
      ]
     },
     "metadata": {
      "needs_background": "light"
     },
     "output_type": "display_data"
    }
   ],
   "source": [
    "# As an example, let's create some fake data ... x will be a numpy array of 20 evenly spaced points between\n",
    "# 1 and 7.  The y data will be created by first calculating the corresponding y value of the straight line\n",
    "# y = 2x + 3, and then adding to that a random \"noise\" value.\n",
    "#\n",
    "# numpy contains a pseudo-random number generator called randn() which returns a SET of random numbers\n",
    "# chosen from a Gaussian/Normal distribution with a mean value of zero and standard deviation of 1.  We will\n",
    "# discuss the Normal distribution in GREAT detail subsequently!\n",
    "#\n",
    "# The regplot() method of seaborn creates a plot object for our data, that includes not only the data, but also\n",
    "# a linear regression fit to the data.  It also includes, shown as the light blue \"band\" around the main fit line,\n",
    "# upper and lower confidence bounds on the fit, as a function of the x-variable.  Again, much more on this later.\n",
    "#\n",
    "\n",
    "x = np.linspace(1, 7, 20)\n",
    "y = 2*x + 3 + np.random.randn(len(x)) \n",
    "df = pd.DataFrame({'xData':x, 'yData':y}) \n",
    "sns.regplot('xData', 'yData', data=df) \n",
    "plt.show()"
   ]
  },
  {
   "cell_type": "code",
   "execution_count": null,
   "metadata": {},
   "outputs": [],
   "source": []
  }
 ],
 "metadata": {
  "kernelspec": {
   "display_name": "Python 3",
   "language": "python",
   "name": "python3"
  },
  "language_info": {
   "codemirror_mode": {
    "name": "ipython",
    "version": 3
   },
   "file_extension": ".py",
   "mimetype": "text/x-python",
   "name": "python",
   "nbconvert_exporter": "python",
   "pygments_lexer": "ipython3",
   "version": "3.6.8"
  }
 },
 "nbformat": 4,
 "nbformat_minor": 2
}
