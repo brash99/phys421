{
 "cells": [
  {
   "cell_type": "code",
   "execution_count": 22,
   "metadata": {},
   "outputs": [],
   "source": [
    "import numpy as np\n",
    "import matplotlib.pyplot as plt"
   ]
  },
  {
   "cell_type": "code",
   "execution_count": 44,
   "metadata": {},
   "outputs": [
    {
     "name": "stdout",
     "output_type": "stream",
     "text": [
      "Nyquist frequency =  7.957747154594767\n",
      "Max terms =  50\n"
     ]
    }
   ],
   "source": [
    "npts = 100\n",
    "xlow = -np.pi\n",
    "xhigh = np.pi\n",
    "\n",
    "x = np.linspace(xlow,xhigh,npts)\n",
    "dt = (xhigh-xlow)/npts\n",
    "\n",
    "# Calculate the Nyquist frequency\n",
    "\n",
    "f_sampling = 1.0/dt\n",
    "f_nyquist = f_sampling/2.0\n",
    "\n",
    "print ('Nyquist frequency = ',f_nyquist)\n",
    "\n",
    "# the Nyquist frequency corresponds to the highest meaningful frequency component\n",
    "#\n",
    "# The terms in the Fourier approximation look like cos(n*np.pi*t/P) or sin(n*np.pi*t/P)\n",
    "#\n",
    "# Thus, omega = n*np.pi/P = n*np.pi/xhigh\n",
    "#       f = omega/(2.0*np.pi) = n/(2.0*xhigh)\n",
    "#\n",
    "#       f_nyquist = n_max/(2.0*xhigh)\n",
    "#\n",
    "#       n_max = 2.0*xhigh*f_nyquist\n",
    "\n",
    "nterms = int(2.0*xhigh*f_nyquist)\n",
    "\n",
    "print ('Max terms = ',nterms)\n",
    "\n",
    "nterms = 50"
   ]
  },
  {
   "cell_type": "code",
   "execution_count": 45,
   "metadata": {},
   "outputs": [],
   "source": [
    "fx = []\n",
    "for i in range(len(x)):\n",
    "    if x[i]<0:\n",
    "        fx.append(0)\n",
    "    else:\n",
    "        fx.append(np.pi-x[i])"
   ]
  },
  {
   "cell_type": "code",
   "execution_count": 46,
   "metadata": {},
   "outputs": [
    {
     "data": {
      "text/plain": [
       "[<matplotlib.lines.Line2D at 0x7fd51cdf1e48>]"
      ]
     },
     "execution_count": 46,
     "metadata": {},
     "output_type": "execute_result"
    },
    {
     "data": {
      "image/png": "[encoded data removed]",
      "text/plain": [
       "<Figure size 432x288 with 1 Axes>"
      ]
     },
     "metadata": {
      "needs_background": "light"
     },
     "output_type": "display_data"
    }
   ],
   "source": [
    "plt.plot(x,fx,'.')"
   ]
  },
  {
   "cell_type": "code",
   "execution_count": 47,
   "metadata": {},
   "outputs": [
    {
     "name": "stdout",
     "output_type": "stream",
     "text": [
      "Theory: n = 1.0000, a_n = 0.6366, bn = 1.0000\n",
      "Data: n = 1.0000, a_n = 0.6303, bn = 0.9902\n",
      "Theory: n = 2.0000, a_n = 0.0000, bn = 0.5000\n",
      "Data: n = 2.0000, a_n = -0.0002, bn = 0.4953\n",
      "Theory: n = 3.0000, a_n = 0.0707, bn = 0.3333\n",
      "Data: n = 3.0000, a_n = 0.0701, bn = 0.3305\n",
      "Theory: n = 4.0000, a_n = 0.0000, bn = 0.2500\n",
      "Data: n = 4.0000, a_n = -0.0002, bn = 0.2482\n",
      "Theory: n = 5.0000, a_n = 0.0255, bn = 0.2000\n",
      "Data: n = 5.0000, a_n = 0.0253, bn = 0.1988\n",
      "Theory: n = 6.0000, a_n = 0.0000, bn = 0.1667\n",
      "Data: n = 6.0000, a_n = -0.0002, bn = 0.1660\n",
      "Theory: n = 7.0000, a_n = 0.0130, bn = 0.1429\n",
      "Data: n = 7.0000, a_n = 0.0129, bn = 0.1426\n",
      "Theory: n = 8.0000, a_n = 0.0000, bn = 0.1250\n",
      "Data: n = 8.0000, a_n = -0.0002, bn = 0.1251\n",
      "Theory: n = 9.0000, a_n = 0.0079, bn = 0.1111\n",
      "Data: n = 9.0000, a_n = 0.0078, bn = 0.1115\n",
      "Theory: n = 10.0000, a_n = 0.0000, bn = 0.1000\n",
      "Data: n = 10.0000, a_n = -0.0002, bn = 0.1007\n"
     ]
    }
   ],
   "source": [
    "x2 = np.linspace(xlow,xhigh,npts)\n",
    "fx_fourier = np.zeros(len(x2))\n",
    "fx_fourier_theory = np.zeros(len(x2))\n",
    "\n",
    "n = []\n",
    "an = []\n",
    "bn = []\n",
    "ant = []\n",
    "bnt = []\n",
    "\n",
    "for i in range(nterms+1):\n",
    "\n",
    "    n.append(i/(2*np.pi))\n",
    "    \n",
    "\n",
    "    # Method 1:  Calculate coefficients from known\n",
    "    # function, f(x), by doing the integrals by hand\n",
    "        \n",
    "    a0 = np.pi/2\n",
    "        \n",
    "    if (i==0):\n",
    "        ant.append(a0)\n",
    "        bnt.append(0)\n",
    "    else:\n",
    "        ant.append((1-(-1)**i)/(i**2*np.pi))\n",
    "        bnt.append(1/i)\n",
    "        \n",
    "    for j in range(len(x2)):\n",
    "        if i==0:\n",
    "            fx_fourier_theory[j] = fx_fourier_theory[j]+ant[0]/2.0\n",
    "        else:\n",
    "            if (j==0 and i<=10): \n",
    "                print (\"Theory: n = %0.4f, a_n = %0.4f, bn = %0.4f\" % (i,ant[i],bnt[i]))\n",
    "            fx_fourier_theory[j] = fx_fourier_theory[j]+ant[i]*np.cos(i*x2[j])+bnt[i]*np.sin(i*x2[j])\n",
    "        \n",
    "    # Method 2:  Numerical integration to calculate\n",
    "    # the coefficients\n",
    "    \n",
    "    a0sum = 0.0\n",
    "    ansum = 0.0\n",
    "    bnsum = 0.0\n",
    "    P = xhigh\n",
    "    for k in range(len(x2)):\n",
    "        a0sum = a0sum + 1/P*fx[k]*dt\n",
    "        ansum = ansum + 1/P*fx[k]*np.cos(i*x2[k])*dt\n",
    "        bnsum = bnsum + 1/P*fx[k]*np.sin(i*x2[k])*dt\n",
    "        \n",
    "    if (i==0):\n",
    "        an.append(a0sum)\n",
    "        bn.append(0)\n",
    "    else:\n",
    "        an.append(ansum)\n",
    "        bn.append(bnsum)   \n",
    "        \n",
    "    for j in range(len(x2)):\n",
    "        if i==0:\n",
    "            fx_fourier[j] = fx_fourier[j]+an[0]/2.0\n",
    "        else:\n",
    "            if (j==0 and i<=10): \n",
    "                print (\"Data: n = %0.4f, a_n = %0.4f, bn = %0.4f\" % (i,an[i],bn[i]))\n",
    "            fx_fourier[j] = fx_fourier[j]+an[i]*np.cos(i*x2[j])+bn[i]*np.sin(i*x2[j])        "
   ]
  },
  {
   "cell_type": "code",
   "execution_count": 48,
   "metadata": {},
   "outputs": [
    {
     "data": {
      "text/plain": [
       "[<matplotlib.lines.Line2D at 0x7fd51cd6e278>]"
      ]
     },
     "execution_count": 48,
     "metadata": {},
     "output_type": "execute_result"
    },
    {
     "data": {
      "image/png": "[encoded data removed]",
      "text/plain": [
       "<Figure size 432x288 with 1 Axes>"
      ]
     },
     "metadata": {
      "needs_background": "light"
     },
     "output_type": "display_data"
    }
   ],
   "source": [
    "plt.plot(x,fx)\n",
    "plt.plot(x2,fx_fourier)\n",
    "plt.plot(x2,fx_fourier_theory)"
   ]
  },
  {
   "cell_type": "code",
   "execution_count": 49,
   "metadata": {},
   "outputs": [
    {
     "data": {
      "image/png": "[encoded data removed]",
      "text/plain": [
       "<Figure size 432x288 with 1 Axes>"
      ]
     },
     "metadata": {
      "needs_background": "light"
     },
     "output_type": "display_data"
    }
   ],
   "source": [
    "plt.plot(n,an)\n",
    "plt.plot(n,ant)\n",
    "plt.yscale(\"log\")"
   ]
  },
  {
   "cell_type": "code",
   "execution_count": 50,
   "metadata": {},
   "outputs": [
    {
     "data": {
      "image/png": "[encoded data removed]",
      "text/plain": [
       "<Figure size 432x288 with 1 Axes>"
      ]
     },
     "metadata": {
      "needs_background": "light"
     },
     "output_type": "display_data"
    }
   ],
   "source": [
    "plt.plot(n,bn)\n",
    "plt.plot(n,bnt)\n",
    "plt.yscale(\"log\")"
   ]
  },
  {
   "cell_type": "code",
   "execution_count": null,
   "metadata": {},
   "outputs": [],
   "source": []
  }
 ],
 "metadata": {
  "kernelspec": {
   "display_name": "Python 3",
   "language": "python",
   "name": "python3"
  },
  "language_info": {
   "codemirror_mode": {
    "name": "ipython",
    "version": 3
   },
   "file_extension": ".py",
   "mimetype": "text/x-python",
   "name": "python",
   "nbconvert_exporter": "python",
   "pygments_lexer": "ipython3",
   "version": "3.6.8"
  }
 },
 "nbformat": 4,
 "nbformat_minor": 2
}
