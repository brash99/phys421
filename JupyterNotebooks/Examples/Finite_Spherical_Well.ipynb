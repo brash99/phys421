{
 "cells": [
  {
   "cell_type": "markdown",
   "metadata": {},
   "source": [
    "### Natural Units\n",
    "\n",
    "It is convenient, for the purposes of solving atomic, nuclear, and particle physics problems, to use a system of units where:\n",
    "\n",
    "$\\hbar c = 197.5~eV\\cdot nm = 197.5~MeV \\cdot fm$\n",
    "\n",
    "In this system, we will measure energy, momentum, and mass in units of eV (or MeV or GeV), and measure distances in nm (or sometimes Angstroms or fm).\n",
    "\n",
    "#### Example: Ground state energy of the hydrogen atom\n",
    "\n",
    "$m_e = 0.511~MeV = 511000~eV$\n",
    "\n",
    "$a_0 = 0.0529 nm$\n",
    "\n",
    "$E_0 = - \\frac{\\hbar^2}{2 m_e a_0^2} = - \\frac{(\\hbar c)^2}{2 (m_e c^2) a_0^2} = -\\frac{(197.5~eV \\cdot nm)^2}{2 (511000~eV) (0.0529 nm)^2} = - 13.6~eV$"
   ]
  },
  {
   "cell_type": "code",
   "execution_count": 41,
   "metadata": {},
   "outputs": [
    {
     "name": "stdout",
     "output_type": "stream",
     "text": [
      "Match found!  496 0.0017251432873344186\n",
      "Energy, ki, ko =  -74.47447447447448 44.48414276490298 44.17352649731274\n"
     ]
    },
    {
     "data": {
      "text/plain": [
       "[<matplotlib.lines.Line2D at 0x7f85a747add8>]"
      ]
     },
     "execution_count": 41,
     "metadata": {},
     "output_type": "execute_result"
    },
    {
     "data": {
      "image/png": "[encoded data removed]",
      "text/plain": [
       "<Figure size 432x288 with 1 Axes>"
      ]
     },
     "metadata": {
      "needs_background": "light"
     },
     "output_type": "display_data"
    }
   ],
   "source": [
    "import numpy as np\n",
    "import matplotlib.pyplot as plt\n",
    "\n",
    "mass = 511000 #electron mass in eV\n",
    "hbar = 197.5 #natural units\n",
    "v0 = 150 #potential well depth in eV\n",
    "a = 0.0529 #radius in nm\n",
    "\n",
    "diff_max = 10000.0\n",
    "npts = 1000\n",
    "for i in range(npts-1):\n",
    "    e = -i/(npts-1)*v0\n",
    "    ki = np.sqrt(2*mass/hbar**2*(v0+e))\n",
    "    ko = np.sqrt(-2.0*mass/hbar**2*e)\n",
    "    lhs = ki*a*np.cos(ki*a)-np.sin(ki*a)\n",
    "    rhs = -(a*ko+1)*np.sin(ki*a)\n",
    "    diff = np.abs(lhs-rhs)\n",
    "    if (diff<diff_max):\n",
    "        diff_max = diff\n",
    "        i_max = i\n",
    "        \n",
    "print (\"Match found! \",i_max,diff_max)\n",
    "e = -i_max/(npts-1)*v0\n",
    "ki = np.sqrt(2*mass/hbar**2*(v0+e))\n",
    "ko = np.sqrt(-2.0*mass/hbar**2*e)\n",
    "\n",
    "print (\"Energy, ki, ko = \",e,ki,ko)\n",
    "\n",
    "r = np.linspace(0.0001,3.0*a,npts)\n",
    "psi = np.zeros(npts)\n",
    "for i in range(npts):\n",
    "    if (r[i] < a):\n",
    "        psi[i] = np.sin(ki*r[i])/r[i]\n",
    "    else:\n",
    "        psi[i] = np.sin(ki*a)*np.exp(ko*a)*np.exp(-ko*r[i])/r[i]\n",
    "        \n",
    "plt.plot(r,psi)\n",
    "\n",
    "#print (r,psi)\n",
    "        \n",
    "\n"
   ]
  },
  {
   "cell_type": "code",
   "execution_count": null,
   "metadata": {},
   "outputs": [],
   "source": []
  },
  {
   "cell_type": "code",
   "execution_count": null,
   "metadata": {},
   "outputs": [],
   "source": []
  }
 ],
 "metadata": {
  "kernelspec": {
   "display_name": "Python 3",
   "language": "python",
   "name": "python3"
  },
  "language_info": {
   "codemirror_mode": {
    "name": "ipython",
    "version": 3
   },
   "file_extension": ".py",
   "mimetype": "text/x-python",
   "name": "python",
   "nbconvert_exporter": "python",
   "pygments_lexer": "ipython3",
   "version": "3.6.8"
  }
 },
 "nbformat": 4,
 "nbformat_minor": 2
}
