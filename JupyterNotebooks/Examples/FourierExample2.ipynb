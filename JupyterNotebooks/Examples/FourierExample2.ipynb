{
 "cells": [
  {
   "cell_type": "code",
   "execution_count": 2,
   "metadata": {},
   "outputs": [],
   "source": [
    "import numpy as np\n",
    "import matplotlib.pyplot as plt"
   ]
  },
  {
   "cell_type": "code",
   "execution_count": 15,
   "metadata": {},
   "outputs": [],
   "source": [
    "x = np.linspace(-2,2,1000)"
   ]
  },
  {
   "cell_type": "code",
   "execution_count": 16,
   "metadata": {},
   "outputs": [],
   "source": [
    "fx = []\n",
    "for i in range(len(x)):\n",
    "    if x[i]<-1 or x[i]>1:\n",
    "        fx.append(0)\n",
    "    else:\n",
    "        if x[i]<0:\n",
    "            fx.append(-2)\n",
    "        else:\n",
    "            fx.append(1)"
   ]
  },
  {
   "cell_type": "code",
   "execution_count": 17,
   "metadata": {},
   "outputs": [
    {
     "data": {
      "text/plain": [
       "[<matplotlib.lines.Line2D at 0x7f411f49e128>]"
      ]
     },
     "execution_count": 17,
     "metadata": {},
     "output_type": "execute_result"
    },
    {
     "data": {
      "image/png": "[encoded data removed]",
      "text/plain": [
       "<Figure size 432x288 with 1 Axes>"
      ]
     },
     "metadata": {
      "needs_background": "light"
     },
     "output_type": "display_data"
    }
   ],
   "source": [
    "plt.plot(x,fx)"
   ]
  },
  {
   "cell_type": "code",
   "execution_count": 26,
   "metadata": {},
   "outputs": [
    {
     "name": "stdout",
     "output_type": "stream",
     "text": [
      "n = 1.000, a_n = -0.318, bn = 0.955\n",
      "n = 2.000, a_n = -0.000, bn = 0.955\n",
      "n = 3.000, a_n = 0.106, bn = 0.318\n",
      "n = 4.000, a_n = 0.000, bn = 0.000\n",
      "n = 5.000, a_n = -0.064, bn = 0.191\n",
      "n = 6.000, a_n = -0.000, bn = 0.318\n",
      "n = 7.000, a_n = 0.045, bn = 0.136\n",
      "n = 8.000, a_n = 0.000, bn = 0.000\n",
      "n = 9.000, a_n = -0.035, bn = 0.106\n",
      "n = 10.000, a_n = -0.000, bn = 0.191\n"
     ]
    }
   ],
   "source": [
    "x2 = np.linspace(-2,2,1000)\n",
    "fx_fourier = np.zeros(len(x2))\n",
    "\n",
    "a0 = -1/2\n",
    "\n",
    "nterms = 11\n",
    "\n",
    "for i in range(nterms+1):\n",
    "    for j in range(len(x2)):\n",
    "        if i==0:\n",
    "            fx_fourier[j] = fx_fourier[j]+a0/2\n",
    "        else:\n",
    "            an = -1/(i*np.pi)*np.sin(i*np.pi/2)\n",
    "            bn = 3/(i*np.pi)*(1-np.cos(i*np.pi/2))\n",
    "            if (j==0 and i<=10): \n",
    "                print (\"n = %0.3f, a_n = %0.3f, bn = %0.3f\" % (i,an,bn))\n",
    "            fx_fourier[j] = fx_fourier[j]+an*np.cos(i*x2[j]*np.pi/2)+bn*np.sin(i*x2[j]*np.pi/2)"
   ]
  },
  {
   "cell_type": "code",
   "execution_count": 27,
   "metadata": {},
   "outputs": [
    {
     "data": {
      "image/png": "[encoded data removed]",
      "text/plain": [
       "<Figure size 432x288 with 1 Axes>"
      ]
     },
     "metadata": {
      "needs_background": "light"
     },
     "output_type": "display_data"
    }
   ],
   "source": [
    "plt.plot(x,fx)\n",
    "plt.plot(x2,fx_fourier)\n",
    "plt.show()"
   ]
  },
  {
   "cell_type": "code",
   "execution_count": null,
   "metadata": {},
   "outputs": [],
   "source": []
  },
  {
   "cell_type": "code",
   "execution_count": null,
   "metadata": {},
   "outputs": [],
   "source": []
  }
 ],
 "metadata": {
  "kernelspec": {
   "display_name": "Python 3",
   "language": "python",
   "name": "python3"
  },
  "language_info": {
   "codemirror_mode": {
    "name": "ipython",
    "version": 3
   },
   "file_extension": ".py",
   "mimetype": "text/x-python",
   "name": "python",
   "nbconvert_exporter": "python",
   "pygments_lexer": "ipython3",
   "version": "3.6.8"
  }
 },
 "nbformat": 4,
 "nbformat_minor": 2
}
