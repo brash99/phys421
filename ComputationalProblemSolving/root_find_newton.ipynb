{
 "cells": [
  {
   "cell_type": "code",
   "metadata": {
    "ExecuteTime": {
     "end_time": "2024-08-26T13:15:58.233709Z",
     "start_time": "2024-08-26T13:15:57.048998Z"
    }
   },
   "source": [
    "import numpy as np\n",
    "import matplotlib.pyplot as plt"
   ],
   "outputs": [],
   "execution_count": 1
  },
  {
   "cell_type": "markdown",
   "metadata": {},
   "source": [
    "# Root Finding: Newton's Method\n",
    "\n",
    "Consider a known function, $y=f(x)$, that has roots defined according to:\n",
    "\n",
    "\\begin{equation}\n",
    "f(x) = 0\n",
    "\\end{equation}\n",
    "\n",
    "We begin by choosing some (random) value of $x$, and then evaluating the derivative, $f'(x)$, at this value.  We then project from this value of $x$, along the straight line that passes through the point $(x,f(x))$ and has a slope defined by $f'(x)$, to the x-axis.  \n",
    "\n",
    "It is easy to show that the value of $x$ where this straight line crosses the x-axis is given by:\n",
    "\n",
    "\\begin{equation}\n",
    "x_{n+1} = x_n - \\frac{f(x_n)}{f'(x_n)}\n",
    "\\end{equation}\n",
    "\n",
    "Newton's Method is simple:  iterate until there is a convergence, within some tolerance. \n",
    "\n",
    "We begin with a simple example:\n",
    "\n",
    "\\begin{equation}\n",
    "y = \\frac{1}{x} - a\n",
    "\\end{equation}\n",
    "\n",
    "where $a$ is a known constant.  This function has a single root at $x = \\frac{1}{a}$."
   ]
  },
  {
   "cell_type": "code",
   "metadata": {
    "ExecuteTime": {
     "end_time": "2024-08-26T13:15:58.236577Z",
     "start_time": "2024-08-26T13:15:58.234620Z"
    }
   },
   "source": [
    "def f(x,a):\n",
    "    return 1/x - a\n",
    "\n",
    "def fprime(x,a):\n",
    "    return -1.0/x**2\n"
   ],
   "outputs": [],
   "execution_count": 2
  },
  {
   "cell_type": "code",
   "metadata": {
    "ExecuteTime": {
     "end_time": "2024-08-26T13:15:58.240087Z",
     "start_time": "2024-08-26T13:15:58.237370Z"
    }
   },
   "source": [
    "# Choose the constant a\n",
    "a = np.exp(1.0)\n",
    "print (\"a = \",a)\n",
    "\n",
    "print (\"Interval of convergence: %0.5f < x <= %0.5f\" % (0,2/a))\n",
    "\n",
    "# Choose a starting value of x\n",
    "x = 0.3\n",
    "\n",
    "# Set the \"tolerance\" for finding the solution\n",
    "epsilon = 1.0E-6\n",
    "\n",
    "# Initialize a variable to use to look at the difference between x_{n+1} and x{n} at each step\n",
    "diff = 1.0E12\n",
    "\n",
    "while (diff > epsilon):\n",
    "    \n",
    "    xnew = x - f(x,a)/fprime(x,a)\n",
    "    diff = xnew - x\n",
    "    print (\"New x-value = \",xnew, \"Diff = \",diff)\n",
    "    \n",
    "    x = xnew\n",
    "    diff = np.abs(diff)\n",
    "    \n",
    "print (\"Root = \",x)\n",
    "print (\"Expected root at x = \",1.0/a)\n",
    "    "
   ],
   "outputs": [
    {
     "name": "stdout",
     "output_type": "stream",
     "text": [
      "a =  2.718281828459045\n",
      "Interval of convergence: 0.00000 < x <= 0.73576\n",
      "New x-value =  0.35535463543868595 Diff =  0.05535463543868596\n",
      "New x-value =  0.3674530222388057 Diff =  0.012098386800119765\n",
      "New x-value =  0.3678789468978142 Diff =  0.00042592465900848087\n",
      "New x-value =  0.36787944117077825 Diff =  4.942729640577959e-07\n",
      "Root =  0.36787944117077825\n",
      "Expected root at x =  0.36787944117144233\n"
     ]
    }
   ],
   "execution_count": 3
  },
  {
   "cell_type": "code",
   "execution_count": null,
   "metadata": {},
   "outputs": [],
   "source": [
    "\n",
    "\n"
   ]
  }
 ],
 "metadata": {
  "kernelspec": {
   "display_name": "Python 3",
   "language": "python",
   "name": "python3"
  },
  "language_info": {
   "codemirror_mode": {
    "name": "ipython",
    "version": 3
   },
   "file_extension": ".py",
   "mimetype": "text/x-python",
   "name": "python",
   "nbconvert_exporter": "python",
   "pygments_lexer": "ipython3",
   "version": "3.6.8"
  },
  "latex_envs": {
   "LaTeX_envs_menu_present": true,
   "autoclose": false,
   "autocomplete": true,
   "bibliofile": "biblio.bib",
   "cite_by": "apalike",
   "current_citInitial": 1,
   "eqLabelWithNumbers": true,
   "eqNumInitial": 1,
   "hotkeys": {
    "equation": "Ctrl-E",
    "itemize": "Ctrl-I"
   },
   "labels_anchors": false,
   "latex_user_defs": false,
   "report_style_numbering": false,
   "user_envs_cfg": false
  }
 },
 "nbformat": 4,
 "nbformat_minor": 4
}
