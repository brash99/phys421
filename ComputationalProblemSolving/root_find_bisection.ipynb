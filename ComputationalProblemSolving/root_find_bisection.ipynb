{
 "cells": [
  {
   "cell_type": "code",
   "metadata": {
    "ExecuteTime": {
     "end_time": "2024-08-28T18:54:57.513209Z",
     "start_time": "2024-08-28T18:54:56.550428Z"
    }
   },
   "source": [
    "import numpy as np\n",
    "import matplotlib.pyplot as plt"
   ],
   "outputs": [],
   "execution_count": 1
  },
  {
   "cell_type": "markdown",
   "metadata": {},
   "source": [
    "# Root Finding: Bisection Method\n",
    "\n",
    "Consider a known function, $y=f(x)$, that has roots defined according to:\n",
    "\n",
    "\\begin{equation}\n",
    "f(x) = 0\n",
    "\\end{equation}\n",
    "\n",
    "We begin by choosing two value of $x$, between which there is a root of the function: $x=a$ and $x=b$.\n",
    "\n",
    "We evaluate the function at $a$, $b$, and at the midpoint, $c=\\frac{a+b}{2}$.  The algorithm is to calculate $f(a)\\cdot f(c)$ and  $f(c)\\cdot f(b)$, and then compare their relative signs.  If  $f(a)\\cdot f(c) < 0$, then the root falls between $a$ and $c$, and we can update the interval such that $b=c$.  Otherwise, if  $f(c)\\cdot f(b) < 0$, then the root falls between $b$ and $c$, and we can update the interval such that $a=c$.\n",
    "\n",
    "We begin with a simple example:\n",
    "\n",
    "\\begin{equation}\n",
    "y = x - tan(x)\n",
    "\\end{equation}\n",
    "\n",
    "This function has a single root at $x \\approx 4.5$."
   ]
  },
  {
   "cell_type": "code",
   "execution_count": 19,
   "metadata": {},
   "outputs": [],
   "source": [
    "def f(x):\n",
    "    #return x - np.tan(x)\n",
    "    return 1.0/x - np.exp(1.0)"
   ]
  },
  {
   "cell_type": "code",
   "execution_count": 21,
   "metadata": {},
   "outputs": [
    {
     "name": "stdout",
     "output_type": "stream",
     "text": [
      "endpoints =  0.36787939071655273 0.3678794860839844\n",
      "root =  0.36787939071655273\n",
      "diff =  7.046753132122774e-07\n",
      "Number of iterations =  21\n"
     ]
    }
   ],
   "source": [
    "#a = 4.0\n",
    "#b = 4.6\n",
    "a = 0.3\n",
    "b = 0.4\n",
    "\n",
    "diff = 1.0E12\n",
    "epsilon = 1.0E-6\n",
    "n=1\n",
    "\n",
    "while (diff > epsilon):\n",
    "    if n>1000:\n",
    "        break\n",
    "    fa = f(a)\n",
    "    fb = f(b)\n",
    "    c= (a+b)/2.0\n",
    "    fc = f(c)\n",
    "    #print (n,fa,fb,fc)\n",
    "    \n",
    "    if (fa*fb > 0):\n",
    "        print (\"No single root in this interval!\")\n",
    "        break\n",
    "        \n",
    "    if (fc==0):\n",
    "        root = c\n",
    "        break\n",
    "    \n",
    "    if (fa*fc < 0):\n",
    "        b = c\n",
    "        diff = np.abs(fc-fa)\n",
    "    else:\n",
    "        a = c\n",
    "        diff = np.abs(fc-fb)\n",
    "    \n",
    "    root = c    \n",
    "    n=n+1\n",
    "        \n",
    "    \n",
    "        \n",
    "print (\"endpoints = \",a,b)\n",
    "print (\"root = \",c)\n",
    "print (\"diff = \",diff)\n",
    "print (\"Number of iterations = \",n)\n"
   ]
  },
  {
   "cell_type": "code",
   "execution_count": null,
   "metadata": {},
   "outputs": [],
   "source": []
  }
 ],
 "metadata": {
  "kernelspec": {
   "display_name": "Python 3",
   "language": "python",
   "name": "python3"
  },
  "language_info": {
   "codemirror_mode": {
    "name": "ipython",
    "version": 3
   },
   "file_extension": ".py",
   "mimetype": "text/x-python",
   "name": "python",
   "nbconvert_exporter": "python",
   "pygments_lexer": "ipython3",
   "version": "3.6.8"
  },
  "latex_envs": {
   "LaTeX_envs_menu_present": true,
   "autoclose": false,
   "autocomplete": true,
   "bibliofile": "biblio.bib",
   "cite_by": "apalike",
   "current_citInitial": 1,
   "eqLabelWithNumbers": true,
   "eqNumInitial": 1,
   "hotkeys": {
    "equation": "Ctrl-E",
    "itemize": "Ctrl-I"
   },
   "labels_anchors": false,
   "latex_user_defs": false,
   "report_style_numbering": false,
   "user_envs_cfg": false
  }
 },
 "nbformat": 4,
 "nbformat_minor": 4
}
