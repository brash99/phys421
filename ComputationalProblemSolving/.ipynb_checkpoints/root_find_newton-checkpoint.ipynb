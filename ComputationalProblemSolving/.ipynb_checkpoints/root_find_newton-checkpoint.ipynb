{
 "cells": [
  {
   "cell_type": "code",
   "execution_count": 42,
   "metadata": {},
   "outputs": [],
   "source": [
    "import numpy as np\n",
    "import matplotlib.pyplot as plt"
   ]
  },
  {
   "cell_type": "code",
   "execution_count": 54,
   "metadata": {},
   "outputs": [
    {
     "name": "stdout",
     "output_type": "stream",
     "text": [
      "a =  0.36787944117144233\n",
      "Interval of convergence: 0.00000 < x <= 5.43656\n",
      "New x-value =  0.6549347684564982 Diff =  0.30493476845649825\n",
      "New x-value =  1.1520714946193735 Diff =  0.4971367261628753\n",
      "New x-value =  1.81586811103492 Diff =  0.6637966164155464\n",
      "New x-value =  2.418699015202013 Diff =  0.6028309041670932\n",
      "New x-value =  2.68526469938164 Diff =  0.26656568417962667\n",
      "New x-value =  2.7178807917449337 Diff =  0.03261609236329388\n",
      "New x-value =  2.7182817692928305 Diff =  0.00040097754789680806\n",
      "New x-value =  2.7182818284590438 Diff =  5.916621326207405e-08\n",
      "New x-value =  2.718281828459045 Diff =  1.3322676295501878e-15\n",
      "Root =  2.718281828459045\n"
     ]
    }
   ],
   "source": [
    "# Choose the constant a\n",
    "a = np.exp(1.0)\n",
    "print (\"a = \",a)\n",
    "\n",
    "print (\"Interval of convergence: %0.5f < x <= %0.5f\" % (0,2/a))\n",
    "\n",
    "# Choose a starting value of x\n",
    "x = 0.35\n",
    "\n",
    "# Set the \"tolerance\" for finding the solution\n",
    "epsilon = 1.0E-12\n",
    "\n",
    "# Initialize a variable to use to look at the difference between x_{n+1} and x{n} at each step\n",
    "diff = 1.0E12\n",
    "\n",
    "while (diff > epsilon):\n",
    "    f = 1.0/x - a\n",
    "    fp = -1.0/x**2\n",
    "    \n",
    "    xnew = x - f/fp\n",
    "    diff = xnew - x\n",
    "    print (\"New x-value = \",xnew, \"Diff = \",diff)\n",
    "    \n",
    "    x = xnew\n",
    "    diff = np.abs(diff)\n",
    "    \n",
    "print (\"Root = \",x)\n",
    "    "
   ]
  },
  {
   "cell_type": "code",
   "execution_count": null,
   "metadata": {},
   "outputs": [],
   "source": [
    "\n",
    "\n"
   ]
  }
 ],
 "metadata": {
  "kernelspec": {
   "display_name": "Python 3",
   "language": "python",
   "name": "python3"
  },
  "language_info": {
   "codemirror_mode": {
    "name": "ipython",
    "version": 3
   },
   "file_extension": ".py",
   "mimetype": "text/x-python",
   "name": "python",
   "nbconvert_exporter": "python",
   "pygments_lexer": "ipython3",
   "version": "3.6.8"
  }
 },
 "nbformat": 4,
 "nbformat_minor": 2
}
