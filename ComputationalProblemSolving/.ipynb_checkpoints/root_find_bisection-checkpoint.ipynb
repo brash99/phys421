{
 "cells": [
  {
   "cell_type": "code",
   "execution_count": 5,
   "metadata": {},
   "outputs": [],
   "source": [
    "import numpy as np\n",
    "import matplotlib.pyplot as plt"
   ]
  },
  {
   "cell_type": "markdown",
   "metadata": {},
   "source": [
    "# Root Finding: Bisection Method\n",
    "\n",
    "Consider a known function, $y=f(x)$, that has roots defined according to:\n",
    "\n",
    "\\begin{equation}\n",
    "f(x) = 0\n",
    "\\end{equation}\n",
    "\n",
    "We begin by choosing two value of , and then evaluating the derivative, $f'(x)$, at this value.  We then project from this value of $x$, along the straight line that passes through the point $(x,f(x))$ and has a slope defined by $f'(x)$, to the x-axis.  \n",
    "\n",
    "It is easy to show that the value of $x$ where this straight line crosses the x-axis is given by:\n",
    "\n",
    "\\begin{equation}\n",
    "x_{n+1} = x_n - \\frac{f(x_n)}{f'(x_n)}\n",
    "\\end{equation}\n",
    "\n",
    "Newton's Method is simple:  iterate until there is a convergence, within some tolerance. \n",
    "\n",
    "We begin with a simple example:\n",
    "\n",
    "\\begin{equation}\n",
    "y = \\frac{1}{x} - a\n",
    "\\end{equation}\n",
    "\n",
    "where $a$ is a known constant.  This function has a single root at $x = \\frac{1}{a}$"
   ]
  },
  {
   "cell_type": "code",
   "execution_count": 11,
   "metadata": {},
   "outputs": [
    {
     "name": "stdout",
     "output_type": "stream",
     "text": [
      "4.49341 4.49341 4.49341\n"
     ]
    }
   ],
   "source": [
    "xl = 4.4\n",
    "xh = 4.6\n",
    "\n",
    "diff = 1.0E12\n",
    "epsilon = 1.0E-5\n",
    "n=1\n",
    "\n",
    "while (diff > epsilon):\n",
    "    if n>1000:\n",
    "        break\n",
    "    fl = xl - np.tan(xl)\n",
    "    fh = xh - np.tan(xh)\n",
    "    xm = (xh-xl)/2.0+xl\n",
    "    fm = xm - np.tan(xm)\n",
    "    \n",
    "    if (fl*fm < 0):\n",
    "        xh = xm\n",
    "        diff = np.abs(fm-fl)\n",
    "    else:\n",
    "        xl = xm\n",
    "        diff = np.abs(fm-fh)\n",
    "        \n",
    "    \n",
    "        \n",
    "print (\"%0.5f %0.5f %0.5f\" % (xl,xh,xm))\n"
   ]
  },
  {
   "cell_type": "code",
   "execution_count": null,
   "metadata": {},
   "outputs": [],
   "source": []
  }
 ],
 "metadata": {
  "kernelspec": {
   "display_name": "Python 3",
   "language": "python",
   "name": "python3"
  },
  "language_info": {
   "codemirror_mode": {
    "name": "ipython",
    "version": 3
   },
   "file_extension": ".py",
   "mimetype": "text/x-python",
   "name": "python",
   "nbconvert_exporter": "python",
   "pygments_lexer": "ipython3",
   "version": "3.6.8"
  },
  "latex_envs": {
   "LaTeX_envs_menu_present": true,
   "autoclose": false,
   "autocomplete": true,
   "bibliofile": "biblio.bib",
   "cite_by": "apalike",
   "current_citInitial": 1,
   "eqLabelWithNumbers": true,
   "eqNumInitial": 1,
   "hotkeys": {
    "equation": "Ctrl-E",
    "itemize": "Ctrl-I"
   },
   "labels_anchors": false,
   "latex_user_defs": false,
   "report_style_numbering": false,
   "user_envs_cfg": false
  }
 },
 "nbformat": 4,
 "nbformat_minor": 2
}
