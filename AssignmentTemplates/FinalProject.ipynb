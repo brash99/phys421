{
 "cells": [
  {
   "cell_type": "markdown",
   "metadata": {},
   "source": [
    "# Final Project\n",
    "\n",
    "Due Date:  11:59pm on Wednesday, December 7th"
   ]
  },
  {
   "cell_type": "markdown",
   "metadata": {},
   "source": [
    "## Question 1 - Experiment Design "
   ]
  },
  {
   "cell_type": "markdown",
   "metadata": {},
   "source": [
    "In the Jupyter Notebook called Fitting_Examples.ipynb (you can find this in the ~/JupyterNotebooks/fitting directory), the last few examples considered cases where the uncertainty in the data became larger at small x-values. We considered three scenarios for collecting the data - one where we focused on small x-values, and two others that covered larger ranges of x.\n",
    "\n",
    "For this question, begin with the Jupyter Notebook above, and modify it to consider 10 x-value ranges that keep the minimum value of the range constant (and fairly close to zero) while varying the maximum x-value from small to larger values. For each x-value range, calculate the uncertainty in the y-intercept, and then create a plot of the uncertainty as a function of that maximum x-value of the range.\n",
    "\n",
    "Now, consider keeping the maximum x-value of the range constant, and vary the minimum value of the range from a small value, close to zero, to a larger value that is close to the maximum value. Create a plot of the uncertainty in the y-intercept as a function of the minimum x-value of the range.\n",
    "\n",
    "What can you conclude from this study about the optimal experiment design?"
   ]
  },
  {
   "cell_type": "markdown",
   "metadata": {},
   "source": [
    "## Question 2 - Experiment Simulation: Frogs and Lily Pads"
   ]
  },
  {
   "cell_type": "markdown",
   "metadata": {},
   "source": [
    "Modify the Jupyter Notebook called frogger.ipynb to include the possibility that the frog can jump in either direction (not just forward). Use the following algorithm:\n",
    "\n",
    "From wherever the frog is currently sitting (i.e. anywhere from the starting position to the last lily pad), it can jump to any other available position, including back to the starting position, or to the other side of the stream. The frog should continue jumping until that moment when it gets to the other side of the stream. The probability should be uniform/equal for jumping to any available position.\n",
    "\n",
    "The goal here is to calculate the average number of jumps, as function of the number of lily pads.\n",
    "\n",
    "Does the final result surprise you?\n",
    "\n",
    "As a final check that your simulation is reasonable, plot the DISTRIBUTION of the number of jumps taken for N$_{lilypads}$ = 30."
   ]
  },
  {
   "cell_type": "markdown",
   "metadata": {},
   "source": [
    "## Question 3 - Real Experiment Analysis:  2016 Mazda CX-5 ODB Data"
   ]
  },
  {
   "cell_type": "markdown",
   "metadata": {},
   "source": [
    "My current vehicle is a 2016 Mazda CX-5.  I purchased an ODB reader unit earlier this year, in order to diagnose the sources of a \"Check Engine Light\" situation.  In once instance last August, I recorded some data using the ODB reader, and then exported this data into a CSV file, in the format the the ODB reader manufacturer specified.   You can find that data file in ~/JupyterNotebooks/ODB/Mazda_CX5_2016_08122022.csv\n",
    "\n",
    "I have provided a VERY basic Jupyter Notebook that illustrates how to read this data file into a Pandas dataframe, look at the format of data, and then how to extract a particular PID signal from the data and plot it.\n",
    "\n",
    "The task for this question is for you to look at ALL of the data recorded, and then create plots of quantities that you think might be useful or interesting, as a function of recording time.  In particular, it should be interesting to look at the CORRELATIONS between various PID signals. Incidentally, the Check Engine code that was thrown that sent me down the path was related to an under-performing catalytic converter.  This is why I recorded data for the upstream and downstream oxygen sensors, and the catalytic converter temperature.\n",
    "\n",
    "This is an open-ended task, and there is no right answer here!  The point is for you to exercise your sense of creativity, together with your knowledge of data analysis techniques that you may have learned in this course, other courses, or through other experiences."
   ]
  },
  {
   "cell_type": "code",
   "execution_count": null,
   "metadata": {},
   "outputs": [],
   "source": []
  }
 ],
 "metadata": {
  "kernelspec": {
   "display_name": "Python 3",
   "language": "python",
   "name": "python3"
  },
  "language_info": {
   "codemirror_mode": {
    "name": "ipython",
    "version": 3
   },
   "file_extension": ".py",
   "mimetype": "text/x-python",
   "name": "python",
   "nbconvert_exporter": "python",
   "pygments_lexer": "ipython3",
   "version": "3.6.8"
  }
 },
 "nbformat": 4,
 "nbformat_minor": 4
}
