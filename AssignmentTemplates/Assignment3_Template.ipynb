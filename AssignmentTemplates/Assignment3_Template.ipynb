{
 "cells": [
  {
   "cell_type": "markdown",
   "metadata": {},
   "source": [
    "# Assignment 3\n",
    "\n",
    "Due Date:  11:59pm on Friday, November 13th (for now)\n",
    "\n",
    "There are some subtle issues to worry about in each of these questions, and thus I\n",
    "will be discussing each problem in class on Monday, November 9th."
   ]
  },
  {
   "cell_type": "markdown",
   "metadata": {},
   "source": [
    "## Question 1 - Fourier Analysis"
   ]
  },
  {
   "cell_type": "markdown",
   "metadata": {},
   "source": [
    "Consider the following triangular pulse signal:"
   ]
  },
  {
   "cell_type": "code",
   "execution_count": 8,
   "metadata": {},
   "outputs": [
    {
     "data": {
      "text/plain": [
       "[<matplotlib.lines.Line2D at 0x7fa7841e4860>]"
      ]
     },
     "execution_count": 8,
     "metadata": {},
     "output_type": "execute_result"
    },
    {
     "data": {
      "image/png": "[encoded data removed]",
      "text/plain": [
       "<Figure size 432x288 with 1 Axes>"
      ]
     },
     "metadata": {
      "needs_background": "light"
     },
     "output_type": "display_data"
    }
   ],
   "source": [
    "import numpy as np\n",
    "import matplotlib.pyplot as plt\n",
    "import random\n",
    "\n",
    "N_samples = 1000\n",
    "t_low = -np.pi\n",
    "t_high = 2.0*np.pi\n",
    "\n",
    "t = np.linspace(t_low,t_high,N_samples)\n",
    "y = np.zeros(N_samples)\n",
    "\n",
    "for i in range(N_samples):\n",
    "    if t[i] < 0.0:\n",
    "        y[i] = 0.0 + 0.1*random.uniform(-1,1)\n",
    "    if t[i] >= 0.0 and t[i] < np.pi:\n",
    "        y[i] = t[i] + 0.1*random.uniform(-1,1)\n",
    "    if t[i] >= np.pi:\n",
    "        y[i] = 0.0 + 0.1*random.uniform(-1,1)\n",
    "    \n",
    "plt.plot(t,y)"
   ]
  },
  {
   "cell_type": "markdown",
   "metadata": {},
   "source": [
    "(a) Using the jupyter notebooks called graph_fourier_basic.ipynb and graph_fourier_guitar.ipynb to help you, calcuate the Fourier transform of this signal.\n",
    "\n",
    "You should create plots of both the real and imaginary Fourier components as a function\n",
    "of frequency, a plot of the Fourier power spectrum as a function of frequency, and also\n",
    "a plot of the time spectrum using the Fourier components as compared to the original time spectrum.\n",
    "\n",
    "(b) Discuss the resulting Fourier spectrum. Which Fourier components do you expect to be small (or zero), based on the theory?  What is the Nyquist frequency, and how many terms in the Fourier series is necessary to give a good approximation to the original signal?"
   ]
  },
  {
   "cell_type": "markdown",
   "metadata": {},
   "source": [
    "## Question 2 - Frogs and Lily Pads"
   ]
  },
  {
   "cell_type": "markdown",
   "metadata": {},
   "source": [
    "Modify the Jupyter Notebook called frogger.ipynb to include the possibility that the frog can jump in either direction (not just forward). Use the following algorithm:\n",
    "\n",
    "From wherever the frog is currently sitting (i.e. anywhere from the starting position to the last lily pad), it can jump to any other available position, including back to the starting position, or to the other side of the stream.  The frog should continue jumping until that moment when it gets to the other side of the stream.  The probability should be uniform/equal for jumping to any available position.\n",
    "\n",
    "The goal here is to calculate the average number of jumps, as function of the number of lily pads.\n",
    "\n",
    "Does the final result surprise you?  \n",
    "\n",
    "As a final check that your simulation is reasonable, plot the DISTRIBUTION of the number of jumps taken for N$_{lily~pads}$ = 30."
   ]
  },
  {
   "cell_type": "markdown",
   "metadata": {},
   "source": [
    "## Question 3 - Random Walk"
   ]
  },
  {
   "cell_type": "markdown",
   "metadata": {},
   "source": [
    "Begin with the example Jupyter Notebook called drunken_sailor.ipynb  \n",
    "\n",
    "In the first example, we considered random walk in one dimension.  For each step that a sailor took, we sampled from a random Gaussian distribution with a mean value of 0 and a standard deviation of 1.  \n",
    "\n",
    "In this question, we would like to consider a different underlying distribution for the step size.  Instead of using a Gaussian, choose the step size from a Poisson distribution with an average value of 1.  Remember that the Poisson distribution is defined for positive values of $x$ only, and so you will also have to randomly choose the direction of the step.\n",
    "\n",
    "How do the results compare to choosing a Gaussian distribution of step size?  Do your results agree with the predictions of the central limit theorem?"
   ]
  },
  {
   "cell_type": "code",
   "execution_count": null,
   "metadata": {},
   "outputs": [],
   "source": []
  }
 ],
 "metadata": {
  "kernelspec": {
   "display_name": "Python 3",
   "language": "python",
   "name": "python3"
  },
  "language_info": {
   "codemirror_mode": {
    "name": "ipython",
    "version": 3
   },
   "file_extension": ".py",
   "mimetype": "text/x-python",
   "name": "python",
   "nbconvert_exporter": "python",
   "pygments_lexer": "ipython3",
   "version": "3.6.8"
  }
 },
 "nbformat": 4,
 "nbformat_minor": 2
}
