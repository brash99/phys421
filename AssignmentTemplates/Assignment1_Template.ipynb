{
 "cells": [
  {
   "cell_type": "markdown",
   "metadata": {},
   "source": [
    "# Assignment 1"
   ]
  },
  {
   "cell_type": "markdown",
   "metadata": {},
   "source": [
    "## Question 1 - Root finding using bisection method"
   ]
  },
  {
   "cell_type": "markdown",
   "metadata": {},
   "source": [
    "Begin by considering the polynomial:\n",
    "\n",
    "$f(x) = 1.80 - 4.05x + 0.40x^2 + x^3 + x^4$\n",
    "\n",
    "a)\tCalculate the roots of this polynomial using the bisection algorithm. You can start with the file called root_find_basic.ipynb and then modify as appropriate.  The program should $start$ by filling an array of 10,000 data points between $x=-4.0$ and $x=4.0$.  Based on where the roots are, and how many there are, you may want to adjust these lower and upper limits.\n",
    "\n",
    "Then, the program should do a sparse search of this array, i.e. once every n_search elements, to look for sign changes, and subsequently using the bisection algorithm to find the root.  The program should also keep track of the time taken to find the roots.\n",
    "\n",
    "b)\tCreate a plot of the time taken to find the roots vs. the sparsification size (npts_per_slice), for npts_per_slice values between 1 and 10,000.  You can start with root_find_complete.ipynb and then modify it.\n",
    "\n",
    "c)\tDeduce the source of the various patterns that you observe in part b).  Hint:  You might consider adjusting the number of data points in the original array, as well as the coefficients of the polynomial, slightly.  HINT:  Compare the patterns that you see for limits of (-4.0,4.0), (0.0,1.5), and (0.0,1.0), using 10000 data points for each."
   ]
  },
  {
   "cell_type": "code",
   "execution_count": null,
   "metadata": {},
   "outputs": [],
   "source": []
  },
  {
   "cell_type": "markdown",
   "metadata": {},
   "source": [
    "## Question 2 - Fitting data"
   ]
  },
  {
   "cell_type": "markdown",
   "metadata": {},
   "source": [
    "a) Go to the following site and retrieve data on the density of air as a function of altitude:\n",
    "\n",
    "http://www.engineeringtoolbox.com/standard-atmosphere-d_604.html\n",
    "\n",
    "Make sure to use the second table, in SI units.  \n",
    "\n",
    "b) Modify the Jupyter Notebook that we went through in class for Non-Linear Fitting to fit the density data as a function of altitude using a function of the form:\n",
    "\n",
    "$f(x)= Ae^{Bx+C\\sqrt{x}}$\n",
    "\n",
    "c) Determine the parameters A, B, and C, as well as the uncertainties on these parameters.\n",
    "\n",
    "d) Plot the fit, including 95% confidence interval error bands, along with the data.  What is your evaluation of the quality of the fit?  Can you think of a different approach that might yield a better fit?"
   ]
  },
  {
   "cell_type": "code",
   "execution_count": null,
   "metadata": {},
   "outputs": [],
   "source": []
  },
  {
   "cell_type": "code",
   "execution_count": null,
   "metadata": {},
   "outputs": [],
   "source": []
  }
 ],
 "metadata": {
  "kernelspec": {
   "display_name": "Python 3",
   "language": "python",
   "name": "python3"
  },
  "language_info": {
   "codemirror_mode": {
    "name": "ipython",
    "version": 3
   },
   "file_extension": ".py",
   "mimetype": "text/x-python",
   "name": "python",
   "nbconvert_exporter": "python",
   "pygments_lexer": "ipython3",
   "version": "3.6.8"
  }
 },
 "nbformat": 4,
 "nbformat_minor": 4
}
